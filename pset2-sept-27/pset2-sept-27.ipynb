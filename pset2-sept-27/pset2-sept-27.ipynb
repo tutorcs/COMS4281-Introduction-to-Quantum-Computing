{
 "cells": [
  {
   "cell_type": "code",
   "execution_count": null,
   "id": "ee606e50",
   "metadata": {},
   "outputs": [],
   "source": [
    "%run utils.py"
   ]
  },
  {
   "cell_type": "markdown",
   "id": "157a2641",
   "metadata": {},
   "source": [
    "#### COMS 4281 - Intro to Quantum Computing \n",
    "\n",
    "# Problem Set 2, Quantum Info Basics\n",
    "\n",
    "### Due: October 9, 11:59pm\n",
    "Collaboration is allowed and encouraged (teams of at most 3).  Please read the syllabus carefully for the guidlines regarding collaboration.  In particular, everyone must write their own solutions in their own words.\n",
    "\n",
    "### Write your collaborators here:\n",
    "\n",
    "$\\newcommand{\\ket}[1]{\\left|{#1}\\right\\rangle} \\newcommand{\\bra}[1]{\\left\\langle{#1}\\right|}$\n",
    "$\\newcommand{\\C}{{\\mathbb{C}}}$\n",
    "$\\newcommand{\\N}{{\\mathbb{N}}}$\n",
    "$\\newcommand{\\F}{{\\mathbb{F}}}$\n",
    "$\\newcommand{\\K}{{\\mathbb{K}}}$\n",
    "$\\newcommand{\\R}{{\\mathbb{R}}}$\n",
    "$\\newcommand{\\Z}{{\\mathbb{Z}}}$"
   ]
  },
  {
   "cell_type": "markdown",
   "id": "a52c80e2",
   "metadata": {},
   "source": [
    "# Problem 1: Non-standard Basis Measurements\n",
    "\n",
    "__a)__ Consider an orthonormal basis $B = \\{ \\ket{b_1}, \\ldots, \\ket{b_d} \\}$ for $\\C^d$. As we learned in class, measuring a quantum state $\\ket{\\psi} \\in \\C^d$ according to the basis $B$ yields outcome $\\ket{b_j}$ with probability $|\\langle b_j | \\psi \\rangle|^2$. \n",
    "\n",
    "In class we also learned that this process was equivalent to first applying a unitary $U$ on $\\ket{\\psi}$, and then measuring the resulting state in the standard basis. In other words, the probability of obtaining standard basis outcome $\\ket{j}$ when measuring $U \\ket{\\psi}$ in the standard basis, equal to $|\\langle b_j | \\psi \\rangle|^2$. What unitary $U$ accomplishes this? Give a description of $U$ and prove that it works. "
   ]
  },
  {
   "cell_type": "markdown",
   "id": "080c17d5",
   "metadata": {},
   "source": [
    "## Solution"
   ]
  },
  {
   "cell_type": "markdown",
   "id": "50172c9f",
   "metadata": {},
   "source": [
    "__b)__ Now let's implement the unitary for measuring in the following basis $B$:\n",
    "$$\\ket{\\psi_0} = \\cos(\\pi/8) \\ket{0} + \\sin(\\pi/8)\\ket{1}$$ and \n",
    "$$\\ket{\\psi_1} = -\\sin(\\pi/8) \\ket{0} + \\cos(\\pi/8)\\ket{1}$$\n",
    "\n",
    "First, write down the measurement probabilities if we measure the following states in the basis $B$:\n",
    "\n",
    "$$\n",
    "\\ket{1}, \\ket{-}, \\ket{+}, \\cos(\\pi/8) \\ket{0} + \\sin(\\pi/8)\\ket{1}\n",
    "$$"
   ]
  },
  {
   "cell_type": "markdown",
   "id": "7c33f48e",
   "metadata": {},
   "source": [
    "## Solution"
   ]
  },
  {
   "cell_type": "markdown",
   "id": "1b8e76e2",
   "metadata": {},
   "source": [
    "__c)__ In the code below, write the matrix $U$ that implements the change of basis from the standard basis to the basis above. "
   ]
  },
  {
   "cell_type": "code",
   "execution_count": null,
   "id": "bbdc948b",
   "metadata": {},
   "outputs": [],
   "source": [
    "# ========= BEGIN CODE =================\n",
    "U = [[1, 0],\n",
    "    [0, 1]]\n",
    "# ========= END CODE =================\n",
    "\n",
    "def perform_basis_measurement(initial_state: List[float]) -> QuantumCircuit:\n",
    "    qr = QuantumRegister(1, name=\"input state\")\n",
    "    cr = ClassicalRegister(1, name=\"output\")\n",
    "    qc = QuantumCircuit(qr, cr)\n",
    "    qc.initialize(initial_state)\n",
    "    qc.append(UnitaryGate(U), qr)\n",
    "    qc.measure(qr, cr)\n",
    "    return qc"
   ]
  },
  {
   "cell_type": "markdown",
   "id": "5e2affb4",
   "metadata": {},
   "source": [
    "Now we'll test your basis change on some states and plot their measurement statistics. You should use this to check whether you implemented the right basis change $U$."
   ]
  },
  {
   "cell_type": "code",
   "execution_count": null,
   "id": "097fa3a7",
   "metadata": {},
   "outputs": [],
   "source": [
    "#First, we test it on the |1> state\n",
    "qc1 = perform_basis_measurement([0.0, 1.0])\n",
    "qc1.draw(output='mpl')\n",
    "backend = Aer.get_backend('qasm_simulator')\n",
    "job_sim = backend.run(transpile(qc1, backend), shots=5024)\n",
    "\n",
    "# Grab the results from the job.\n",
    "result_sim = job_sim.result()\n",
    "counts = result_sim.get_counts(qc1)\n",
    "plot_histogram(counts)"
   ]
  },
  {
   "cell_type": "code",
   "execution_count": null,
   "id": "1c7ef25a",
   "metadata": {},
   "outputs": [],
   "source": [
    "# Next we try it on the |-> state\n",
    "qc1 = perform_basis_measurement([1.0/np.sqrt(2), -1.0/np.sqrt(2)])\n",
    "qc1.draw(output='mpl')\n",
    "backend = Aer.get_backend('qasm_simulator')\n",
    "job_sim = backend.run(transpile(qc1, backend), shots=5024)\n",
    "\n",
    "# Grab the results from the job.\n",
    "result_sim = job_sim.result()\n",
    "counts = result_sim.get_counts(qc1)\n",
    "plot_histogram(counts)"
   ]
  },
  {
   "cell_type": "code",
   "execution_count": null,
   "id": "9a201531",
   "metadata": {},
   "outputs": [],
   "source": [
    "#...and the |+> state\n",
    "qc1 = perform_basis_measurement([1.0/np.sqrt(2), 1.0/np.sqrt(2)])\n",
    "qc1.draw(output='mpl')\n",
    "backend = Aer.get_backend('qasm_simulator')\n",
    "job_sim = backend.run(transpile(qc1, backend), shots=5024)\n",
    "\n",
    "# Grab the results from the job.\n",
    "result_sim = job_sim.result()\n",
    "counts = result_sim.get_counts(qc1)\n",
    "plot_histogram(counts)"
   ]
  },
  {
   "cell_type": "code",
   "execution_count": null,
   "id": "fe2df678",
   "metadata": {},
   "outputs": [],
   "source": [
    "#and now the cos(pi/8) |0> + sin(pi/8) |1> state\n",
    "qc1 = perform_basis_measurement([np.cos(math.pi/8), np.sin(math.pi/8)])\n",
    "qc1.draw(output='mpl')\n",
    "backend = Aer.get_backend('qasm_simulator')\n",
    "job_sim = backend.run(transpile(qc1, backend), shots=5024)\n",
    "\n",
    "# Grab the results from the job.\n",
    "result_sim = job_sim.result()\n",
    "counts = result_sim.get_counts(qc1)\n",
    "plot_histogram(counts)"
   ]
  },
  {
   "cell_type": "markdown",
   "id": "de102e31",
   "metadata": {},
   "source": [
    "# Problem 2: EPR Pair Properties\n",
    "Let's examine properties of the EPR pair $${|\\psi\\rangle} = \\frac{1}{\\sqrt{2}} \\left( {|00\\rangle} + {|11\\rangle} \\right).$$ In what follows, let's suppose that Alice is given the left qubit of the EPR pair, and Bob is given the right qubit, and they are separated by a large distance."
   ]
  },
  {
   "cell_type": "markdown",
   "id": "67fcaeec",
   "metadata": {},
   "source": [
    "__a)__ Let $A = \\{ {|a_1\\rangle},{|a_2\\rangle} \\}$ be some orthonormal basis for $\\mathbb{C}^2$. Suppose Alice measures her qubit using basis $A$. What are the statistics of the measurement outcomes (i.e. what are the probability of ${|a_1\\rangle}$ or ${|a_2\\rangle}$)?"
   ]
  },
  {
   "cell_type": "markdown",
   "id": "67e90236",
   "metadata": {},
   "source": [
    "### Solution\n"
   ]
  },
  {
   "cell_type": "markdown",
   "id": "c4b7dfca",
   "metadata": {},
   "source": [
    "__b)__ Show that if Alice obtains measurement outcome ${|a_i\\rangle}$ for some $i \\in \\{1,2\\}$, the post-measurement state of the EPR pair is ${|a_i\\rangle} \\otimes |a_i\\rangle^*$ where $|a_i\\rangle^*$ is the __complex conjugate__ of ${|a_i\\rangle}$ (i.e. the $j$-th entry is the complex conjugate of the $j$-th entry of ${|a_i\\rangle}$).\n",
    "\n",
    "This is interesting because Alice might have decided on the basis only after Bob was sent away, yet Alice's measurement causes Bob's qubit to instantaneously collapse into one of the basis states of $A$ (up to complex conjugation). This is a phenomenon called __quantum steering__, because Alice is able to __steer__ Bob's qubit, even though she is only acting on __her__ qubit."
   ]
  },
  {
   "cell_type": "markdown",
   "id": "760ca36a",
   "metadata": {},
   "source": [
    "### Solution\n"
   ]
  },
  {
   "cell_type": "markdown",
   "id": "2ed3819d",
   "metadata": {},
   "source": [
    "__c)__ Suppose that Bob then measures his qubit using an orthonormal  basis $B = \\{{|b_1\\rangle},{|b_2\\rangle} \\}$. What are the statistics of his measurement outcomes, conditioned on Alice's outcome?"
   ]
  },
  {
   "cell_type": "markdown",
   "id": "cb227106",
   "metadata": {},
   "source": [
    "### Solution\n"
   ]
  },
  {
   "cell_type": "markdown",
   "id": "b500df42",
   "metadata": {},
   "source": [
    "__d)__ Suppose the order of measurements were reversed: Bob measures his qubit first using basis $B$, and then Alice measures her qubit using basis $A$. Show that the __joint__ probability distribution of their measurement outcomes is the same as before."
   ]
  },
  {
   "cell_type": "markdown",
   "id": "a07114d1",
   "metadata": {},
   "source": [
    "### Solution"
   ]
  },
  {
   "cell_type": "markdown",
   "id": "81e8eaf6",
   "metadata": {},
   "source": [
    "__e)__ What can you conclude about the effectiveness of using quantum entanglement and quantum steering as a method for faster-than-light communication? In other words, can Alice and Bob, by only making local measurements on their entangled state, send information to each other?"
   ]
  },
  {
   "cell_type": "markdown",
   "id": "17338a2c",
   "metadata": {},
   "source": [
    "### Solution"
   ]
  },
  {
   "cell_type": "markdown",
   "id": "acb3fefe",
   "metadata": {},
   "source": [
    "# Problem 3: Quantum Teleportation with Noise\n",
    "We saw how to teleport quantum states in class. Let's consider a twist on the standard teleportation protocol. Let's imagine that when Alice and Bob meet up to create an entangled state, the settings on their lab equipment was screwed up  and they accidentally create the following two-qubit entangled state\n",
    "$$\n",
    "    \\ket{\\theta} = \\frac{1}{\\sqrt{3}} \\ket{00} - \\frac{1}{\\sqrt{6}} \\ket{01} + \\frac{1}{\\sqrt{6}} \\ket{10} + \\frac{1}{\\sqrt{3}} \\ket{11}~.\n",
    "$$\n",
    "Only Alice realizes this after they haven each taken a qubit each and gone their separate ways.\n",
    "\n",
    "Suppose that Alice now gets a gift qubit $\\ket{\\psi} = \\alpha \\ket{0} + \\beta \\ket{1}$. Is there a way that she can still teleport $\\ket{\\psi}$ to Bob, using their corrupted entangled state $\\ket{\\theta}$ and the classical communication channel? Like in the standard teleportation protocol, Alice can only apply unitaries and measurements to her two qubits, and Bob will apply the same corrections as in the standard teleportation protocal (since he's not aware of the corruption)."
   ]
  },
  {
   "cell_type": "markdown",
   "id": "c9dab267",
   "metadata": {},
   "source": [
    "__a)__ Show how the teleportation protocol can be adapted for the corruption from Alice's side and analyze the correctness of your proposed protocol."
   ]
  },
  {
   "cell_type": "markdown",
   "id": "4791282f",
   "metadata": {},
   "source": [
    "### Solution"
   ]
  },
  {
   "cell_type": "markdown",
   "id": "9986ec4e",
   "metadata": {},
   "source": [
    "__b)__  Now let's implement Alice's teleportation protocol using the noisy EPR pair with qiskit.\n",
    "\n",
    "Write code in `create_alice_noisy_tp_circuit` function below, which takes as as input a QuantumRegister (consisting of two qubits) and a ClassicalRegister (consisting of two 2 bits). \n",
    "\n",
    "**Important Note**: the register indices in Alice's and Bob's functions are **local** (0-indexed), meaning that from Alice or Bob's point of view, her zeroth qubit is the gift qubit, and her first qubit is the first half of the EPR pair. From Bob's point of view, he only has the other half of the EPR pair, which he considers his zeroth qubit."
   ]
  },
  {
   "cell_type": "code",
   "execution_count": 78,
   "id": "42b5dea9",
   "metadata": {},
   "outputs": [],
   "source": [
    "def initialize_noisy_epr_pair(qc: QuantumCircuit, qubits: List[int]) -> QuantumCircuit:\n",
    "    # For qc.initialize, the ordering of the states are |00>, |01>, |10>, |11> \n",
    "    #if the top wire corresponds to the rightmost bit (recall the little endian convention of Qiskit)\n",
    "    qc.initialize([np.sqrt(1/3.0), np.sqrt(1/6.0), -np.sqrt(1/6.0), np.sqrt(1/3.0)], qubits = qubits)\n",
    "    qc.barrier()\n",
    "    return qc\n",
    "\n",
    "def create_base_noisy_tp_circuit() -> QuantumCircuit: \n",
    "    qr1 = QuantumRegister(1, name=\"psi\")\n",
    "    qr2 = QuantumRegister(2, name=\"theta\")\n",
    "    cr = ClassicalRegister(2, name=\"m\")\n",
    "    qc = QuantumCircuit(qr1, qr2, cr)\n",
    "    return initialize_noisy_epr_pair(qc, [1, 2])\n",
    "\n",
    "def create_alice_noisy_tp_circuit(qr: QuantumRegister, cr: ClassicalRegister) -> QuantumCircuit:\n",
    "    qc = QuantumCircuit(qr, cr)\n",
    "    # Alice has two qubits (index 0,1) and access to two classical registers (index 0,1)    \n",
    "    # ========= BEGIN CODE =================\n",
    "    \n",
    "    \n",
    "    # ========= END CODE =================\n",
    "    return qc\n",
    "\n",
    "def create_bob_noisy_tp_circuit(qr: QuantumRegister, cr: ClassicalRegister) -> QuantumCircuit:\n",
    "    qc = QuantumCircuit(qr, cr)\n",
    "    qc.z(0).c_if(cr[0], 1) # Apply gates if the registers \n",
    "    qc.x(0).c_if(cr[1], 1) # are in the state '1'\n",
    "    return qc"
   ]
  },
  {
   "cell_type": "code",
   "execution_count": null,
   "id": "4312a381",
   "metadata": {
    "scrolled": true
   },
   "outputs": [],
   "source": [
    "noisy_tp_circuit = create_base_noisy_tp_circuit()\n",
    "noisy_tp_circuit = append(noisy_tp_circuit, create_alice_noisy_tp_circuit, [0,1], [0,1])\n",
    "noisy_tp_circuit = append(noisy_tp_circuit, create_bob_noisy_tp_circuit, [2], [0,1])\n",
    "noisy_tp_circuit.draw(output='mpl')"
   ]
  },
  {
   "cell_type": "code",
   "execution_count": null,
   "id": "1d7b0c5d",
   "metadata": {},
   "outputs": [],
   "source": [
    "test_noisy_teleportation(noisy_tp_circuit)"
   ]
  },
  {
   "cell_type": "markdown",
   "id": "82eff7c5",
   "metadata": {},
   "source": [
    "# Problem 4: Transferring Entanglement\n",
    "Here we explore a task to __transfer entanglement__. Let's say there are three parties, Alice, Bob, and Carol. Alice shares an EPR pair with Bob, and Bob shares an EPR pair with Carol (so Alice has one qubit, Bob has two qubits, and Carol has one qubit). "
   ]
  },
  {
   "cell_type": "markdown",
   "id": "1bcda684",
   "metadata": {},
   "source": [
    "__a)__  Design and analyze a protocol that involves only classical communication between the pairs (Alice,Bob), and (Bob,Carol), such that at the end Alice and Carol --- who never directly interacted with each other --- now share an EPR pair.\n",
    "\n",
    "Hint: use the teleportation protocol as inspiration."
   ]
  },
  {
   "cell_type": "markdown",
   "id": "25d1465b",
   "metadata": {},
   "source": [
    "### Solution"
   ]
  },
  {
   "cell_type": "markdown",
   "id": "409132f7",
   "metadata": {},
   "source": [
    "__b)__  Now let's implement Alice's, Bob's and Carol's parts of the entanglement swapping circuit. You will have to implement what Alice, Bob, and Carol do with their qubits, and how they classically communicate with each other. Fill in the functions in the places indicated below.\n",
    "\n",
    "**Important note**: see the important note in Problem 3 regarding the local indexing of qubits in the Alice, Bob and Carol functions."
   ]
  },
  {
   "cell_type": "code",
   "execution_count": null,
   "id": "1c100912",
   "metadata": {},
   "outputs": [],
   "source": [
    "def alice_circuit(qr: QuantumRegister, cr: ClassicalRegister) -> QuantumCircuit:\n",
    "    qc = QuantumCircuit(qr, cr)\n",
    "    # Alice has one qubit (index 0) and access to two classical registers (index 0 and 1)\n",
    "    # ========= BEGIN CODE =================\n",
    "    \n",
    "    \n",
    "    \n",
    "    # ========= END CODE =================\n",
    "    return QuantumCircuit(qr, cr)\n",
    "\n",
    "def bob_circuit(qr: QuantumRegister, cr: ClassicalRegister) -> QuantumCircuit:\n",
    "    qc = QuantumCircuit(qr, cr)\n",
    "    # Bob has two qubits (index 0,1) and access to four classical registers (indices 0,1,2,3)\n",
    "    # ========= BEGIN CODE =================\n",
    "\n",
    "    # ========= END CODE =================\n",
    "    return qc\n",
    "\n",
    "def carol_circuit(qr: QuantumRegister, cr: ClassicalRegister) -> QuantumCircuit:\n",
    "    qc = QuantumCircuit(qr, cr)\n",
    "    # Carol has one qubit (index 0) and access to two classical registers (index 0 and 1)\n",
    "    # look up qiskit documentation for using classical registers to control quantum gates\n",
    "    # ========= BEGIN CODE =================\n",
    "\n",
    "\n",
    "    # ========= END CODE =================\n",
    "    return qc\n",
    "\n",
    "def add_epr_pair(qc: QuantumCircuit, a, b):\n",
    "    qc.h(a)\n",
    "    qc.cnot(a,b)\n",
    "    qc.barrier()\n",
    "    return qc\n",
    "\n",
    "def create_entanglement_swapping_circuit_base() -> QuantumCircuit: \n",
    "    \"\"\"\n",
    "    This creates a circuit with 2 EPR pairs in registers {0, 1} and {2, 3} respectively\n",
    "    and four classical registers (labelled {0,1,2,3}).\n",
    "    Alice will have access to qubit 0, and the first two classical registers ({0,1}).\n",
    "    Bob will have access to qubits 1 and 2, and all the classical registers ({0,1,2,3}).\n",
    "    Carol will have access to qubit 3, and the last two classical registers ({2,3}).\n",
    "    \"\"\"\n",
    "    qr1 = QuantumRegister(2, name=\"epr ab\")\n",
    "    qr2 = QuantumRegister(2, name=\"epr bc\")\n",
    "    \n",
    "    num_classical_bits = 4           \n",
    "    \n",
    "    cr = ClassicalRegister(num_classical_bits, name=\"cr\")\n",
    "    global_circuit = QuantumCircuit(qr1, qr2, cr)\n",
    "    global_circuit = add_epr_pair(global_circuit, 0, 1)\n",
    "    global_circuit = add_epr_pair(global_circuit, 2, 3)\n",
    "    return global_circuit\n",
    "\n",
    "def create_entanglement_swapping_circuit() -> QuantumCircuit:\n",
    "    qc = create_entanglement_swapping_circuit_base()\n",
    "    \n",
    "    qc = append(qc, alice_circuit, [0],[0,1])\n",
    "    qc.barrier()\n",
    "    qc = append(qc, bob_circuit, [1, 2], [0, 1,2,3])\n",
    "    qc.barrier()\n",
    "    qc = append(qc, carol_circuit, [3], [2, 3])\n",
    "        \n",
    "    return qc"
   ]
  },
  {
   "cell_type": "code",
   "execution_count": null,
   "id": "35397f61",
   "metadata": {},
   "outputs": [],
   "source": [
    "entanglement_swapping_circuit = create_entanglement_swapping_circuit() \n",
    "entanglement_swapping_circuit.draw(output = 'mpl')"
   ]
  },
  {
   "cell_type": "code",
   "execution_count": null,
   "id": "e6219ade",
   "metadata": {},
   "outputs": [],
   "source": [
    "test_entanglement_swapping(entanglement_swapping_circuit)"
   ]
  },
  {
   "attachments": {
    "triangle.png": {
     "image/png": "[encoded data removed]"
    }
   },
   "cell_type": "markdown",
   "id": "3ec421ef",
   "metadata": {},
   "source": [
    "# Problem 5: Let's Play a (Nonlocal) Game\n",
    "In class we learned about the CHSH game, let's consider another, slightly more complicated game.  \n",
    "\n",
    "Let's say that you and your best friend want to pull a nasty prank on your mortal enemy*.  You decide to try to convince him that the vertices in the following graph can be colored red or blue such that no two adjacent vertices have the same color (this is known as being $2$-colorable):\n",
    "\n",
    "![triangle.png](attachment:triangle.png)\n",
    "\n",
    "Clearly, this isn't possible, but you decide to give it a shot.  You propose the following non-local game to your enemy:\n",
    "1. Your enemy picks a vertex $s$ in the graph ($0$, $1$, or $2$) uniformly at random.\n",
    "2. Your enemy gives you $s$.\n",
    "2. Your enemy gives your friend either $s$ or $s+1 \\mod 3$, with $50\\%$ probability (call this vertex $t$).\n",
    "3. You and your friend return colors (red or blue).\n",
    "4. If the vertex your enemy gave you and your friend were the same vertex, he checks that the colors are the same. Otherwise he checks that the colors are different.\n",
    "\n",
    "(The enemy is the referee of this game, and you and your friend are like Alice and Bob in CHSH)"
   ]
  },
  {
   "cell_type": "markdown",
   "id": "98253ae0",
   "metadata": {},
   "source": [
    "**a)** What is the best probability that any classical strategy can win this game with?"
   ]
  },
  {
   "cell_type": "markdown",
   "id": "ff06fec7",
   "metadata": {},
   "source": [
    "### Solution"
   ]
  },
  {
   "cell_type": "markdown",
   "id": "4cccccfe",
   "metadata": {},
   "source": [
    "**b)** Let's say you and your friend are resourceful and happened to share a single EPR pair before playing the non-local game with your enemy.  Fill in the following functions that take in a quantum register (initialized to an EPR pair), and a question (from 0, 1, 2), and perform a measurement that plays the game (outputting the result to the classical register).  Try to get the best winning probability you can.\n",
    "\n",
    "Hint: use the CHSH strategy for inspiration."
   ]
  },
  {
   "cell_type": "code",
   "execution_count": null,
   "id": "fc0f9385",
   "metadata": {},
   "outputs": [],
   "source": [
    "def alice_game_circuit(qr: QuantumRegister, cr: ClassicalRegister, question: int) -> QuantumCircuit:\n",
    "    qc = QuantumCircuit(qr, cr)\n",
    "    # Alice will need to apply a unitary gate, and then measure her qubit\n",
    "    # ========= BEGIN CODE =================\n",
    "\n",
    "    # ========= END CODE =================\n",
    "    return qc\n",
    "\n",
    "def bob_game_circuit(qr: QuantumRegister, cr: ClassicalRegister, question: int) -> QuantumCircuit:\n",
    "    qc = QuantumCircuit(qr, cr)\n",
    "    # Bob will need to apply a unitary gate, and then measure his qubit\n",
    "    # ========= BEGIN CODE =================\n",
    "\n",
    "    # ========= END CODE =================\n",
    "    return qc"
   ]
  },
  {
   "cell_type": "code",
   "execution_count": null,
   "id": "40a86fae",
   "metadata": {},
   "outputs": [],
   "source": [
    "def play_game(question1: int, question2: int) -> float:\n",
    "    hidden_state = QuantumRegister(2, name=\"epr_pair\")\n",
    "    answers = ClassicalRegister(2, name=\"answer\")\n",
    "    global_circuit = QuantumCircuit(hidden_state, answers)\n",
    "    global_circuit = add_epr_pair(global_circuit, 0, 1)\n",
    "    global_circuit = append(global_circuit, lambda qr, cr : alice_game_circuit(qr, cr, question1), [0], [0])\n",
    "    global_circuit = append(global_circuit, lambda qr, cr : bob_game_circuit(qr, cr, question2), [1], [1])\n",
    "    total_shots = 5024\n",
    "    backend = Aer.get_backend('qasm_simulator')\n",
    "    job_sim = backend.run(transpile(global_circuit, backend), shots=total_shots)\n",
    "    result_sim = job_sim.result()\n",
    "    measurements = result_sim.get_counts(global_circuit)\n",
    "    winning_shots = 0\n",
    "    if question1 == question2:\n",
    "        for measurement in measurements:\n",
    "            if measurement[0] == measurement[1]:\n",
    "                # Win this game\n",
    "                winning_shots += measurements[measurement]\n",
    "    else:\n",
    "        for measurement in measurements:\n",
    "            if measurement[0] != measurement[1]:\n",
    "                # Win this game\n",
    "                winning_shots += measurements[measurement]\n",
    "    return winning_shots / total_shots\n",
    "\n",
    "winning_probability = 0.0\n",
    "for i in range(3):\n",
    "    winning_probability += play_game(i, i)\n",
    "    winning_probability += play_game(i, (i + 1) % 3)\n",
    "print(\"Average Winning Probability: \", winning_probability / 6)"
   ]
  },
  {
   "cell_type": "markdown",
   "id": "ea221e75",
   "metadata": {},
   "source": [
    "**c)** Describe the strategy that you chose and it's expected winning probability."
   ]
  },
  {
   "cell_type": "markdown",
   "id": "d0df79e8",
   "metadata": {},
   "source": [
    "### Solution\n"
   ]
  },
  {
   "cell_type": "markdown",
   "id": "427b6349",
   "metadata": {},
   "source": [
    "**BONUS PROBLEM** If you think you have the optimal quantum strategy for this game, give a proof that there is no better quantum strategy. You may assume Alice and Bob use 1 EPR pair as their shared state. \n",
    "\n",
    "Many extra points if you give a proof that considers all possible quantum strategies (any entangled state, any possible measurements), "
   ]
  },
  {
   "cell_type": "code",
   "execution_count": null,
   "id": "c0742f9e",
   "metadata": {},
   "outputs": [],
   "source": []
  },
  {
   "cell_type": "code",
   "execution_count": null,
   "id": "184e0f01",
   "metadata": {},
   "outputs": [],
   "source": []
  }
 ],
 "metadata": {
  "kernelspec": {
   "display_name": "Python 3 (ipykernel)",
   "language": "python",
   "name": "python3"
  },
  "language_info": {
   "codemirror_mode": {
    "name": "ipython",
    "version": 3
   },
   "file_extension": ".py",
   "mimetype": "text/x-python",
   "name": "python",
   "nbconvert_exporter": "python",
   "pygments_lexer": "ipython3",
   "version": "3.8.9"
  },
  "vscode": {
   "interpreter": {
    "hash": "0496f9bd3589af8a458940f52e746dd431c597080565717c85ba61b585cc60bf"
   }
  }
 },
 "nbformat": 4,
 "nbformat_minor": 5
}
