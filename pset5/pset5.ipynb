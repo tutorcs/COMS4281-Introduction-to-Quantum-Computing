{
 "cells": [
  {
   "cell_type": "markdown",
   "id": "8aa3839d",
   "metadata": {},
   "source": [
    "#### COMS 4281 - Intro to Quantum Computing \n",
    "\n",
    "# Problem Set 5: Noise and Codes\n",
    "\n",
    "### Due: December 11, 11:59pm.\n",
    "Collaboration is allowed and encouraged (teams of at most 3).  Please read the syllabus carefully for the guidlines regarding collaboration.  In particular, everyone must write their own solutions in their own words.\n",
    "\n",
    "### Write your collaborators here:\n",
    "\n",
    "$\\newcommand{\\ket}[1]{\\left|{#1}\\right\\rangle} \\newcommand{\\bra}[1]{\\left\\langle{#1}\\right|}$\n",
    "$\\newcommand{\\ketbra}[2]{\\left | {#1} \\right \\rangle \\left \\langle {#2} \\right |}$\n",
    "$\\newcommand{\\C}{{\\mathbb{C}}}$\n",
    "$\\newcommand{\\N}{{\\mathbb{N}}}$\n",
    "$\\newcommand{\\F}{{\\mathbb{F}}}$\n",
    "$\\newcommand{\\K}{{\\mathbb{K}}}$\n",
    "$\\newcommand{\\R}{{\\mathbb{R}}}$\n",
    "$\\newcommand{\\Z}{{\\mathbb{Z}}}$\n",
    "$\\newcommand{\\Tr}{\\mathrm{Tr}}$"
   ]
  },
  {
   "cell_type": "markdown",
   "id": "041be559",
   "metadata": {},
   "source": [
    "# Problem 1: Mixed states"
   ]
  },
  {
   "cell_type": "markdown",
   "id": "f2e5072c",
   "metadata": {},
   "source": [
    "## Problem 1.1\n",
    "\n",
    "Compute the single- and two-qubit reduced density matrices of the $3$-qubit GHZ state\n",
    "\n",
    "$$\n",
    "        \\frac{\\ket{000} + \\ket{111}}{\\sqrt{2}}~.\n",
    "$$"
   ]
  },
  {
   "cell_type": "markdown",
   "id": "1a2695b6",
   "metadata": {},
   "source": [
    "## Solution"
   ]
  },
  {
   "cell_type": "markdown",
   "id": "c7be7446",
   "metadata": {},
   "source": [
    "## Problem 1.2\n",
    "\n",
    "Let $\\{ (p_1,\\ket{\\psi_1}),\\ldots,(\\psi_k,\\ket{\\psi_k}) \\}$ denote a probabilistic mixture of states -- not necessarily orthogonal -- where $p_i$'s are probabilities that sum to $1$. Consider the density matrix $\\sigma = p_1 \\ketbra{\\psi_1}{\\psi_1} + \\cdots + p_k \\ketbra{\\psi_k}{\\psi_k}$ on a system $A$. Show that the following vector $\\ket{\\theta}_{AB}$ is a valid pure state (i.e. unit length vector), and it purifies $\\sigma$:\n",
    "\n",
    "$$\n",
    "        \\ket{\\theta} = \\sum_{i = 1}^k \\sqrt{p_i} \\ket{\\psi_i}_A \\otimes \\ket{i}_B\n",
    "$$\n",
    "\n",
    "where $B$ is a register of dimension at least $k$ and $\\{ \\ket{i} \\}$ is an orthonormal basis for $B$."
   ]
  },
  {
   "cell_type": "markdown",
   "id": "26810088",
   "metadata": {},
   "source": [
    "## Solution\n"
   ]
  },
  {
   "cell_type": "markdown",
   "id": "64a1606a",
   "metadata": {},
   "source": [
    "## Problem 1.3\n",
    "\n",
    "Come up with a two-qubit pure state $\\ket{\\psi}_{AB}$ whose reduced density matrix on system $A$ is\n",
    "\n",
    "$$\n",
    "        \\Tr_{B}(\\ketbra{\\psi}{\\psi}) = \\frac{1}{2}  \\begin{pmatrix} 1 + p & -\\sqrt{(1 - p)p} \\\\ -\\sqrt{(1 - p)p} & 1 - p \\end{pmatrix}\n",
    "$$\n",
    "\n",
    "where $0 \\leq p \\leq 1$ is some parameter.\n",
    "    \n",
    "**Hint**: Try to reduce to part (2) above.\n"
   ]
  },
  {
   "cell_type": "markdown",
   "id": "25bc928a",
   "metadata": {},
   "source": [
    "## Solution"
   ]
  },
  {
   "cell_type": "markdown",
   "id": "d3e82e3c",
   "metadata": {},
   "source": [
    "## Problem 1.4\n",
    "\n",
    "Let $\\ket{\\psi} = \\alpha \\ket{0} + \\beta \\ket{1}$ denote an unknown qubit, and suppose it was just teleported from Alice to Bob. But imagine that, before Alice is able to tell Bob the outcomes of her measurements, her internet cuts out. So Bob's qubit is one of the states\n",
    "\n",
    "$$\n",
    "    \\ket{\\psi}, X \\ket{\\psi}, Z \\ket{\\psi}, XZ \\ket{\\psi}\n",
    "$$\n",
    "\n",
    "with equal probability. What is the density matrix that describes the mixed state of Bob's qubit?"
   ]
  },
  {
   "cell_type": "markdown",
   "id": "595c272a",
   "metadata": {},
   "source": [
    "## Solution"
   ]
  },
  {
   "cell_type": "markdown",
   "id": "20e6fa44",
   "metadata": {},
   "source": [
    "# Problem 2: Limitations of Shor's code"
   ]
  },
  {
   "cell_type": "markdown",
   "id": "3083d35d",
   "metadata": {},
   "source": [
    "Show that there are distinct two-qubit errors $E_1 \\neq E_2$ (unitaries acting on two qubits) such that\n",
    "\n",
    "$$\n",
    "    E_1 \\ket{\\overline{0}} = E_2 \\ket{\\overline{1}}\n",
    "$$\n",
    "\n",
    "where $\\ket{\\overline{0}},\\ket{\\overline{1}}$ represent the logical $\\ket{0},\\ket{1}$ state using the $9$-qubit Shor code. This shows that the Shor code is not capable of correcting more than $1$ error."
   ]
  },
  {
   "cell_type": "markdown",
   "id": "9925c17f",
   "metadata": {},
   "source": [
    "## Solution"
   ]
  },
  {
   "cell_type": "markdown",
   "id": "99784e79",
   "metadata": {},
   "source": [
    "# Problem 3: An error _detection_ code\n",
    "\n",
    "Shor's $9$-qubit code can **correct** any single-qubit error on one of its $9$ qubits. Below we give a $4$-qubit code which can \\emph{detect} any single-qubit error on its qubits. By this we mean that there is a detection circuit that determines if a single-qubit error has occurred, but it can't necessarily identify which one has occurred. \n",
    "\n",
    "The encoding map is as follows:\n",
    "\\begin{gather*}\n",
    "    \\ket{\\overline{0}} = \\frac{1}{2} \\Big( \\ket{00} + \\ket{11} \\Big) \\otimes \\Big( \\ket{00} + \\ket{11} \\Big) \\\\\n",
    "    \\ket{\\overline{1}} = \\frac{1}{2} \\Big( \\ket{00} - \\ket{11} \\Big) \\otimes \\Big( \\ket{00} - \\ket{11} \\Big)~.\n",
    "\\end{gather*}\n",
    "\n",
    "## Problem 3.1\n",
    "\n",
    "Give an example of two distinct single-qubit unitaries $E_1 \\neq E_2$ (which may act on different qubits) such that\n",
    "\n",
    "$$\n",
    "    E_1 \\ket{\\overline{0}} = E_2 \\ket{\\overline{1}}~.\n",
    "$$\n",
    "\n",
    "This shows that this code cannot uniquely identify single-qubit errors, because given $E_1 \\ket{\\overline{0}}$, one can't be sure whether the original state was $\\ket{\\overline{0}}$ or $\\ket{\\overline{1}}$. However, in the next few parts you will show that the code can still detect that **some** error has occurred. "
   ]
  },
  {
   "cell_type": "markdown",
   "id": "58b17e60",
   "metadata": {},
   "source": [
    "## Solution"
   ]
  },
  {
   "cell_type": "markdown",
   "id": "03177fdd",
   "metadata": {},
   "source": [
    "## Problem 3.2\n",
    "\n",
    "Give a procedure (either as a quantum circuit or sufficiently detailed pseudocode) that detects a \\emph{bitflip} error on a single qubit of an encoded state $\\alpha \\ket{\\overline{0}} + \\beta \\ket{\\overline{1}}$. In other words the procedure, if it's given a valid encoded state $\\ket{\\overline{\\psi}}$, returns $\\ket{\\overline{\\psi}}$ and outputs \"No error\", whereas if it's given $X_i \\ket{\\overline{\\psi}}$ where $X_i$ is the bitflip operation on some qubit $i$, then the circuit outputs \"$X$ error somewhere\". "
   ]
  },
  {
   "cell_type": "markdown",
   "id": "f396e3e3",
   "metadata": {},
   "source": [
    "## Solution"
   ]
  },
  {
   "cell_type": "markdown",
   "id": "e66faabf",
   "metadata": {},
   "source": [
    "## Problem 3.3\n",
    "\n",
    "Give a procedure (either as a quantum circuit or sufficiently detailed pseudocode) that detects a **phaseflip** error on a single qubit of an encoded state $\\alpha \\ket{\\overline{0}} + \\beta \\ket{\\overline{1}}$. \n"
   ]
  },
  {
   "cell_type": "markdown",
   "id": "1d90eae7",
   "metadata": {},
   "source": [
    "## Solution"
   ]
  },
  {
   "cell_type": "markdown",
   "id": "598bd220",
   "metadata": {},
   "source": [
    "## Problem 3.4\n",
    "\n",
    "Explain how to detect **any** unitary $1$-qubit error on one of the $4$ qubits."
   ]
  },
  {
   "cell_type": "markdown",
   "id": "a6ccd683",
   "metadata": {},
   "source": [
    "## Solution"
   ]
  },
  {
   "cell_type": "markdown",
   "id": "b5ac5c65",
   "metadata": {},
   "source": [
    "# Problem 4: Circuits on noisy quantum computers\n",
    "\n"
   ]
  },
  {
   "cell_type": "markdown",
   "id": "0f6f91ab",
   "metadata": {},
   "source": [
    "The IBM Quantum Lab gives public access to a number of their quantum computers. In this problem you'll get to play with them -- and see the effects of noise on your quantum circuits. "
   ]
  },
  {
   "cell_type": "markdown",
   "id": "37925904",
   "metadata": {},
   "source": [
    "## Problem 4.1 - Benchmarking individual qubits\n",
    "\n"
   ]
  },
  {
   "cell_type": "markdown",
   "id": "f21a97c0",
   "metadata": {},
   "source": [
    "In this subproblem, we will benchmark individual qubits on (a simulation of) the 5-qubit `ibmq_essex` device. A typical way to benchmark a qubit is to run a sequence of randomly chosen single-qubit gates $g_1,g_2,\\ldots,g_k$, and then running the reverse sequence $g_k^{-1},g_{k-1}^{-1},\\ldots,g_1^{-1}$ so that overall the effect should be the identity. Of course, each gate will incur some noise, so the state of the qubit will drift over time. One can measure the noise by measuring the qubit at the end of the sequence to see if it stayed in the $\\ket{0}$ state. \n",
    "\n",
    "You will write code to perform the following: for $k = 10, 20, 30, \\ldots,100$, for each qubit $q = 0, 1,2, \\ldots,4$, pick a sequence of gates $g_{1},\\ldots,g_k$ where each $g_i$ is chosen randomly from the gate set $\\{ X, Y,Z, H \\}$. Then, on qubit $q$ run the sequence $(g_i)$ forward and then in reverse, and measure the qubit. Do this 1000 times and calculate the percentage $p_{q,k}$ of times that the qubit $q$ ends back in the $\\ket{0}$ state. \n",
    "\n",
    "Below, we've provided two functions. The first function, `benchmark_qubit`, requires you to fill in some code, and it returns a `IBMQJob` object. The second function, `retrieve_job_results`, takes an `IBMQJob` object and gets the measurement counts. (The reason we're dividing this up into two steps is because later we'll run these circuits on a real device)."
   ]
  },
  {
   "cell_type": "code",
   "execution_count": 2,
   "id": "7ecb9804",
   "metadata": {},
   "outputs": [],
   "source": [
    "from qiskit import IBMQ, transpile\n",
    "from qiskit import QuantumCircuit\n",
    "from qiskit.providers.aer import AerSimulator\n",
    "from qiskit.providers.fake_provider import FakeEssex\n",
    "from qiskit.providers.jobstatus import JobStatus\n",
    "\n",
    "import numpy as np\n",
    "from matplotlib import pyplot as plt\n",
    "\n",
    "##########\n",
    "# This function takes as input\n",
    "#    - q : qubit number 0 thru 4\n",
    "#    - k : length of random gate sequence\n",
    "#    - shots: number of times to run and measure the sequence\n",
    "#    - device: the device (either simulated or real) to run the circuit on\n",
    "#\n",
    "#  Returns: \n",
    "#    - the IBMQJob object corresponding to the circuit (see https://qiskit.org/documentation/stubs/qiskit.providers.ibmq.job.IBMQJob.html#qiskit.providers.ibmq.job.IBMQJob)\n",
    "##########\n",
    "def benchmark_qubit(q, k, shots,device):\n",
    "    \n",
    "    circ = QuantumCircuit(5, 1)\n",
    "\n",
    "    ### WRITE CODE TO GENERATE THE RANDOM SEQUENCE OF LENGTH k, and ITS REVERSAL, ON QUBIT q ####################\n",
    "    \n",
    "    \n",
    "    ### END CODE BLOCK ###################\n",
    "    \n",
    "    # measure qubit q, and store it in classical register [0]\n",
    "    circ.measure([q], [0])\n",
    "    \n",
    "    #this will break down the circuit into gates that can be implemented on the chip\n",
    "    compiled_circuit = transpile(circ,device,optimization_level=0)\n",
    "    \n",
    "    job = device.run(compiled_circuit,shots=shots)\n",
    "    return job\n",
    "\n",
    "##########\n",
    "# This function takes as input\n",
    "#    - job: the IBMQJob object corresponding to a circuit being executed\n",
    "#    - blocking: if True, then this will wait until the circuit results are done executing on the device\n",
    "#                (either fake or real). If False, then this will first check the status of the job.\n",
    "#\n",
    "#  Returns: \n",
    "#    - if the job is done, then it returns the counts as a dictionary (e.g., { '0000': 356, '0001': 288, ...})\n",
    "#      otherwise if the job is still running or some other status, then it returns None\n",
    "##########\n",
    "def retrieve_job_results(job,blocking=True):\n",
    "    \n",
    "    #if it's blocking, then just go ahead and call result()\n",
    "    if blocking:\n",
    "        counts = job.result().get_counts(0)\n",
    "        return counts\n",
    "    else:\n",
    "        #first, check the status\n",
    "        job_status = job.status()\n",
    "    \n",
    "        if job_status is JobStatus.DONE:\n",
    "            counts = job.result().get_counts(0)\n",
    "            return counts            \n",
    "        else:\n",
    "            print(\"The job \",job.job_id,\" has status: \",job_status)\n",
    "            return None\n",
    "\n",
    "        "
   ]
  },
  {
   "cell_type": "markdown",
   "id": "dca82c1b",
   "metadata": {},
   "source": [
    "\n",
    "Below, write code using `benchmark_qubit`, `retrieve_job_results` to get the measurement counts and calculate $p_{q,k}$ for $q = 0,1,2,3,4$ and $k = 10, 20, 30, \\ldots, 100$. Then, plot $p_{q,k}$ against $k$ (you can consult https://www.geeksforgeeks.org/using-matplotlib-with-jupyter-notebook/ for an example on how to plot graphs). You should have 5 plots in one graph."
   ]
  },
  {
   "cell_type": "code",
   "execution_count": 6,
   "id": "975b0d23",
   "metadata": {},
   "outputs": [
    {
     "name": "stdout",
     "output_type": "stream",
     "text": [
      "{'1': 20, '0': 980}\n"
     ]
    },
    {
     "data": {
      "image/png": "[encoded data removed]",
      "text/plain": [
       "<Figure size 640x480 with 1 Axes>"
      ]
     },
     "metadata": {},
     "output_type": "display_data"
    }
   ],
   "source": [
    "    \n",
    "fake_device = AerSimulator.from_backend(FakeEssex())\n",
    "\n",
    "#### WRITE YOUR CODE HERE #################    \n",
    "\n",
    "#example code, \n",
    "job = benchmark_qubit(0,100,1000,fake_device)\n",
    "counts = retrieve_job_results(job)\n",
    "print(counts)\n",
    "#\n",
    "\n",
    "#an example plot, change to display your data instead\n",
    "for q in range(5):\n",
    "    ks = np.arange(100)\n",
    "    p_qks = [k*q + q*np.sin(k) for k in ks]\n",
    "    plt.plot(ks, p_qks, label=f'q={q}')\n",
    "plt.xlabel('$k$')\n",
    "plt.ylabel('$kq + q sin(k)$')\n",
    "plt.title('$kq + q sin(k)$ vs. k')\n",
    "plt.legend()\n",
    "\n",
    "plt.show()\n",
    "\n",
    "#### END CODE BLOCK ############################################################\n",
    "    "
   ]
  },
  {
   "cell_type": "markdown",
   "id": "a8d2c752",
   "metadata": {},
   "source": [
    "## Problem 4.2 - Estimating the single qubit gate noise\n",
    "\n",
    "For each qubit $q$, find a best function $f(k)$ (linear, quadratic, exponential,...) that fits the plots. For example, if the plot of $p_{qk}$ against $k$ looks linear, then you should come up with parameters $a,b$ such that $p_{qk}$ is close to $a k + b$. If it looks like exponential decay, then you should find an approximate $f(k) = ae^{bk} + c$ for some parameters $a,b,c$.\n",
    "\n",
    "This function can be used to give a simple model for how noise accumulates on each qubit from single-qubit gates."
   ]
  },
  {
   "cell_type": "markdown",
   "id": "567de5ad",
   "metadata": {},
   "source": [
    "## Solution\n"
   ]
  },
  {
   "cell_type": "markdown",
   "id": "e5ac198a",
   "metadata": {},
   "source": [
    "## Problem 4.3 - Benchmarking entanglement generation\n",
    "\n",
    "Now we benchmark the quantum computer on more complex circuits that involve entangling gates, which will generally be more noisy than single-qubit gates. \n",
    "\n",
    "For each $r = 2, 3, 4, 5$, let $\\ket{\\psi_r}$ denote the $r$-qubit GHZ state\n",
    "\n",
    "$$\n",
    "    \\frac{\\ket{0}^{\\otimes r} + \\ket{1}^{\\otimes r}}{\\sqrt{2}}.\n",
    "$$\n",
    "\n",
    "When $r = 2$, this is simply the EPR pair we know and love. Let $C_r$ denote a circuit that starts with $r$ zeroes and outputs $\\ket{\\psi_r}$. \n",
    "\n",
    "Write code to do the same benchmarking as in Problem 4.1, except now we perform $C_r$, then $C_r^{-1}$, then $C_r$, and so on $k$ times. Ideally, all of these circuits would cancel out so measuring all $r$ qubits will yield zero. However, the gates will be noisy so error will accumulate as $k$ grows larger.\n",
    "\n",
    "Let $p_{rk}$ denote the percentage of times (out of 1000 shots) that doing $C_r$ and $C_r^{-1}$ for $k$ times yields all zeroes in the $r$ qubits. Plot $p_{rk}$ versus $k$ for $r = 2,3,4,5$ and for $k = 10,20,30,\\ldots,100$. There should be 4 plots on one graph.\n",
    "\n",
    "**Important**: the `ibmq_essex` device has a very particular connectivity of qubits:\n",
    "\n",
    "<img src=\"essex.png\" width=\"300px\" />\n",
    "\n",
    "You can only apply 2-qubit gates between the connected nodes. For exampe, you can apply a CNOT between qubits 3 and 1, but not 3 and 2. Thus, when coding your circuit $C_r$, you may want to judiciously choose which $r$ qubits you use to maximize the performance. The darker shading of a qubit means lower noise rate."
   ]
  },
  {
   "cell_type": "code",
   "execution_count": null,
   "id": "c9ef7cb0",
   "metadata": {},
   "outputs": [],
   "source": [
    "##########\n",
    "# This function takes as input\n",
    "#    - r : size of GHZ state\n",
    "#    - k : length of random gate sequence\n",
    "#    - shots: number of times to run and measure the sequence\n",
    "#    - device: the device to run on, either simulated or real\n",
    "#\n",
    "#  Returns: \n",
    "#    - the IBMQJob object corresponding to the circuit (see https://qiskit.org/documentation/stubs/qiskit.providers.ibmq.job.IBMQJob.html#qiskit.providers.ibmq.job.IBMQJob)\n",
    "##########\n",
    "def benchmark_circuit(r, k, shots, device):\n",
    "    \n",
    "    circ = QuantumCircuit(5, r)\n",
    "\n",
    "    ### WRITE CODE TO GENERATE C_r and its reversal k times ####################\n",
    "    \n",
    "             ## You need to choose your subset of qubits carefully!\n",
    "    \n",
    "    ### END CODE BLOCK ###################\n",
    "    \n",
    "    \n",
    "    ### WRITE CODE TO MEASURE AND COMPUTE P_RK #####################\n",
    "    \n",
    "    # measure r of the qubits , and store it in the r classical registers\n",
    "    #for example, if r = 3, circ.measure([1,3,4],[0,1,2]) would mean measuring qubits 1,3,4\n",
    "    \n",
    "    # <--- WRITE MEASUREMENT CODE HERE\n",
    "    \n",
    "    #this will break down the circuit into gates that can be implemented on the chip\n",
    "    compiled_circuit = transpile(circ,device,optimization_level=0)\n",
    "    job = device.run(compiled_circuit,shots=shots)\n",
    "    \n",
    "    return job\n",
    "\n",
    "#### WRITE CODE TO CALL benchmark_circuit, retrieve_job_results AND PLOT p_rk versus k #################    \n",
    "\n",
    "\n",
    "#### END CODE BLOCK ############################################################"
   ]
  },
  {
   "cell_type": "markdown",
   "id": "8c200d15",
   "metadata": {},
   "source": [
    "## Problem 4.4 - Estimating noise of the GHZ circuit\n",
    "\n",
    "For each $r = 2,3,4,5$ find a best function $f(k)$ (linear, quadratic, exponential,...) that fits the plots. \n",
    "\n",
    "These functions can be used to give a simple model for how noise accumulates at a global level for the GHZ circuit. How much worse is this than the single-qubit gates situation?"
   ]
  },
  {
   "cell_type": "markdown",
   "id": "feb02cd4",
   "metadata": {},
   "source": [
    "## Solution\n"
   ]
  },
  {
   "cell_type": "markdown",
   "id": "784d2c38",
   "metadata": {},
   "source": [
    "## Problem 4.5 - Running this on an _actual_ quantum computer\n",
    "\n",
    "So far you've been running all this on a simulated version of the 5-qubit `ibmq_essex` device (which has been retired). Now let's actually run it on a _real_ quantum computer -- how exciting! \n",
    "\n",
    "If you look at the available systems on https://quantum-computing.ibm.com/services/resources, you will see that there are a number of devices (`ibmq_belem`, `ibm_perth`, `ibm_lagos`, `ibm_nairobi`, etc) with varying numbers of qubits, and with different levels of busy-ness (some have more jobs in the queue than others). \n",
    "\n",
    "If you haven't already, please add your IBM Quantum login email to the spreadsheet\n",
    "\n",
    "https://docs.google.com/spreadsheets/d/1tB27ZyoDozMzBN9Ya1-bEx6f_pa-VfibDlXVrkA9XCQ/edit?usp=sharing\n",
    "\n",
    "so that you can get the special education access to their machines (your jobs are processed faster). \n",
    "\n",
    "For this problem, you will need to run this on the IBM Quantum Lab. The next two commands will show whether you have the special education access."
   ]
  },
  {
   "cell_type": "code",
   "execution_count": null,
   "id": "97fbefba",
   "metadata": {},
   "outputs": [],
   "source": [
    "IBMQ.load_account()\n",
    "IBMQ.providers()"
   ]
  },
  {
   "cell_type": "markdown",
   "id": "ac6afeb7",
   "metadata": {
    "slideshow": {
     "slide_type": "slide"
    }
   },
   "source": [
    "If you don't see something like `<AccountProvider for IBMQ(hub='ibm-q-education', group='columbia-uni-2', project='computer-science')>` in the printed list, then e-mail Prof. Yuen and he will add you as a collaborator. \n",
    "\n",
    "The next code will get the machines that are available to you:"
   ]
  },
  {
   "cell_type": "code",
   "execution_count": null,
   "id": "a1e2687b",
   "metadata": {},
   "outputs": [],
   "source": [
    "provider = IBMQ.get_provider(hub='ibm-q-education')\n",
    "provider.backends()"
   ]
  },
  {
   "cell_type": "markdown",
   "id": "2c298fa9",
   "metadata": {},
   "source": [
    "Next, pick a machine to use. In our simulated code above, we choose `ibmq_essex`, but you have to choose some other device (because essex has been retired). You should check https://quantum-computing.ibm.com/services/resources to see which ones have the shortest line."
   ]
  },
  {
   "cell_type": "code",
   "execution_count": null,
   "id": "4ef1ebee",
   "metadata": {},
   "outputs": [],
   "source": [
    "real_device = provider.get_backend('ibmq_PICK_DEVICE_HERE')\n",
    "real_device.status()"
   ]
  },
  {
   "cell_type": "markdown",
   "id": "f2c9b234",
   "metadata": {},
   "source": [
    "Now that you've loaded a device, now you can run the same code (`benchmark_qubit` and `benchmark_circuit`), except by passing `real_device` to the functions this time your circuits will be run on some qubits somewhere in upstate New York! Your goal in this part of the problem is to do the same benchmarking, and compare the results with simulation. Since time on the IBM computers are limited, we only ask you to plot $p_{qk}$ versus $k$ for just one of the qubits, and to only plot $p_{rk}$ versus $k$ for $r = 3$. \n",
    "\n",
    "Unlike with the simulation code, your circuits will be queued after you call `benchmark_qubit` or `benchmark_circuit`. Each call will return a job that takes time to run (usually a few minutes per job). A hundred circuits will likely take a whole day to finish. (So be sure to test your code first in simulation before submitting jobs to the IBM quantum machines!)\n",
    "\n",
    "To avoid situations where you lose the result of your jobs, in this part you should structure your code as follows:\n",
    "1. Call the `benchmark_qubit` and `benchmark_circuit` code all at once, and save the job IDs to a file.\n",
    "2. Periodically check the status of your jobs (either programmatically or using the \"Jobs\" control panel in IBM Quantum Lab).\n",
    "3. Once you see they're done, retrieve the results as before.\n",
    "\n",
    "Below we provide some helper functions to save jobs to a file."
   ]
  },
  {
   "cell_type": "code",
   "execution_count": null,
   "id": "cbf7c7dd",
   "metadata": {},
   "outputs": [],
   "source": [
    "##########\n",
    "# This function takes as input\n",
    "#    - list_of_jobs: self-explanatory\n",
    "#    - filename: file to store the job_ids\n",
    "##########\n",
    "def save_jobs_to_file(list_of_jobs,filename):\n",
    "    \n",
    "    #open the file\n",
    "    with open(filename,'w') as f:\n",
    "        for job in list_of_jobs:\n",
    "            f.write(job.job_id())\n",
    "            f.write('\\n')\n",
    "\n",
    "##########\n",
    "# This function takes as input\n",
    "#    - name_of_device: this is the name of the device you submitted the jobs to, such as `ibmq_belem` or `ibm_nairobi`, etc.\n",
    "#    - filename: file that has all the job_ids\n",
    "#\n",
    "# Returns: a list_of_jobs\n",
    "##########            \n",
    "def load_jobs_from_file(name_of_device,filename):\n",
    "    IBMQ.load_account()\n",
    "    provider = IBMQ.get_provider(hub='ibm-q-education')\n",
    "    device = provider.get_backend(name_of_device)\n",
    "    \n",
    "    list_of_jobs = []\n",
    "    with open(filename,'r') as f:\n",
    "        job_ids = f.readlines()\n",
    "        for job_id in job_ids:\n",
    "            job = device.retrieve_job(job_id.strip())\n",
    "            list_of_jobs.append(job)\n",
    "            \n",
    "    return list_of_jobs\n",
    "\n",
    "\n",
    "##########\n",
    "# This function takes as input\n",
    "#    - list_of_jobs: self-explanatory\n",
    "##########\n",
    "def print_job_statuses(list_of_jobs):\n",
    "    for job in list_of_jobs:\n",
    "        print(\"id: \",job.job_id(),\" status: \", job.status())\n",
    "        \n"
   ]
  },
  {
   "cell_type": "markdown",
   "id": "db5b8c3b",
   "metadata": {},
   "source": [
    "Next, write code for Step 1. You should use `save_jobs_to_file` to store your work.\n",
    "\n",
    "**Warning**: If you execute it multiple times, it will resubmit the same jobs! We suggest testing it out with one or two circuit jobs first before scaling up."
   ]
  },
  {
   "cell_type": "code",
   "execution_count": 8,
   "id": "6f5bd63f",
   "metadata": {},
   "outputs": [],
   "source": [
    "### INSERT YOUR STEP 1 CODE HERE ######################\n",
    "    \n",
    "    \n",
    "###############################################"
   ]
  },
  {
   "cell_type": "markdown",
   "id": "ce2b77b6",
   "metadata": {},
   "source": [
    "Next, write some code to load the jobs ids and check on their status. You can run this block even if you've re-opened the Jupyter notebook."
   ]
  },
  {
   "cell_type": "code",
   "execution_count": null,
   "id": "d870a431",
   "metadata": {},
   "outputs": [],
   "source": [
    "### INSERT YOUR STEP 2 CODE HERE ######################\n",
    "    \n",
    "#list_of_jobs = load_jobs_from_file('name_of_device','filename.txt')\n",
    "#print_job_statuses(list_of_jobs)\n",
    "    \n",
    "###############################################"
   ]
  },
  {
   "cell_type": "markdown",
   "id": "8df5b3f8",
   "metadata": {},
   "source": [
    "Finally, once you see all the job statuses are done, retrieve the job results. Remember that `retrieve_job_results` takes in an argument called `blocking`, which you should set to `False` here."
   ]
  },
  {
   "cell_type": "code",
   "execution_count": 7,
   "id": "1f7a39bf",
   "metadata": {},
   "outputs": [],
   "source": [
    "### INSERT YOUR STEP 3 CODE HERE ######################\n",
    "    \n",
    "    \n",
    "###############################################"
   ]
  },
  {
   "cell_type": "markdown",
   "id": "3b19e4ab",
   "metadata": {},
   "source": [
    "How do the results from the actual hardware compare with simulation? Quantify the differences, if any."
   ]
  },
  {
   "cell_type": "markdown",
   "id": "71936bbd",
   "metadata": {},
   "source": [
    "## Solution\n"
   ]
  },
  {
   "cell_type": "code",
   "execution_count": null,
   "id": "8b5011fb",
   "metadata": {},
   "outputs": [],
   "source": [
    "## Solution\n"
   ]
  },
  {
   "cell_type": "markdown",
   "id": "6b9e4890",
   "metadata": {},
   "source": [
    "## Problem 5: Quantum Tug-of-War!\n"
   ]
  },
  {
   "cell_type": "markdown",
   "id": "57a3ea3d",
   "metadata": {},
   "source": [
    "In this part of the problem set you will write a strategy for a quantum video game. See the accompanying Jupyter notebook `QTugofwar.ipynb` for details."
   ]
  },
  {
   "cell_type": "code",
   "execution_count": null,
   "id": "04697c72",
   "metadata": {},
   "outputs": [],
   "source": []
  }
 ],
 "metadata": {
  "kernelspec": {
   "display_name": "Python 3 (ipykernel)",
   "language": "python",
   "name": "python3"
  },
  "language_info": {
   "codemirror_mode": {
    "name": "ipython",
    "version": 3
   },
   "file_extension": ".py",
   "mimetype": "text/x-python",
   "name": "python",
   "nbconvert_exporter": "python",
   "pygments_lexer": "ipython3",
   "version": "3.8.9"
  },
  "vscode": {
   "interpreter": {
    "hash": "0496f9bd3589af8a458940f52e746dd431c597080565717c85ba61b585cc60bf"
   }
  }
 },
 "nbformat": 4,
 "nbformat_minor": 5
}
