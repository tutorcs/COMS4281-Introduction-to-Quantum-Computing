{
 "cells": [
  {
   "cell_type": "markdown",
   "id": "8aa3839d",
   "metadata": {},
   "source": [
    "#### COMS 4281 - Intro to Quantum Computing \n",
    "\n",
    "# Problem Set 4: Hamiltonians, Algorithms, and Complexity\n",
    "\n",
    "### Due: November 20, 11:59pm.\n",
    "Collaboration is allowed and encouraged (teams of at most 3).  Please read the syllabus carefully for the guidlines regarding collaboration.  In particular, everyone must write their own solutions in their own words.\n",
    "\n",
    "### Write your collaborators here:\n",
    "\n",
    "$\\newcommand{\\ket}[1]{\\left|{#1}\\right\\rangle} \\newcommand{\\bra}[1]{\\left\\langle{#1}\\right|}$\n",
    "$\\newcommand{\\C}{{\\mathbb{C}}}$\n",
    "$\\newcommand{\\N}{{\\mathbb{N}}}$\n",
    "$\\newcommand{\\F}{{\\mathbb{F}}}$\n",
    "$\\newcommand{\\K}{{\\mathbb{K}}}$\n",
    "$\\newcommand{\\R}{{\\mathbb{R}}}$\n",
    "$\\newcommand{\\Z}{{\\mathbb{Z}}}$"
   ]
  },
  {
   "cell_type": "markdown",
   "id": "041be559",
   "metadata": {},
   "source": [
    "# Problem 1: Hamiltonian Math"
   ]
  },
  {
   "cell_type": "markdown",
   "id": "b4a9ede6",
   "metadata": {},
   "source": [
    "## Problem 1.1 \n",
    "\n",
    "Let $H$ be a Hamiltonian and let $\\ket{\\psi}$ be a ground state, i.e., it minimizes $\\bra{\\psi} H \\ket{\\psi}$ over all states. Show that $\\ket{\\psi}$ is an eigenvector."
   ]
  },
  {
   "cell_type": "markdown",
   "id": "817bd4ee",
   "metadata": {},
   "source": [
    "## Solution"
   ]
  },
  {
   "cell_type": "markdown",
   "id": "97a8b62f",
   "metadata": {},
   "source": [
    "## Problem 1.2\n",
    "\n",
    "Let $H$ be a Hamiltonian and let $\\ket{\\psi(0)}$ denote some initial state with average energy $E = \\bra{\\psi(0)} H \\ket{\\psi(0)}$. \n",
    "\n",
    "Let $\\ket{\\psi(t)}$ denote the time evolution of $\\ket{\\psi(0)}$ with respect to the Hamiltonian $H$. In other words,\n",
    "\n",
    "$$\n",
    "    \\ket{\\psi(t)} = e^{-i H t} \\ket{\\psi(0)}.\n",
    "$$\n",
    "\n",
    "Show that the energy of the state $\\ket{\\psi(t)}$ with respect to $H$ is still $E$. In other words, show that time evolution of a state with respect to a Hamiltonian conserves energy."
   ]
  },
  {
   "cell_type": "markdown",
   "id": "7e4d5ebe",
   "metadata": {},
   "source": [
    "## Solution"
   ]
  },
  {
   "cell_type": "markdown",
   "id": "a793c52a",
   "metadata": {},
   "source": [
    "# Problem 2: The 1D Ising model"
   ]
  },
  {
   "cell_type": "markdown",
   "id": "64a1606a",
   "metadata": {},
   "source": [
    "## Problem 2.1\n",
    "\n",
    "Recall the 1-dimensional Ising model, which is a Hamiltonian describing a bunch of magnets on a line:\n",
    "\n",
    "$$\n",
    "    H = \\sum_{j=1}^{n-1} Z_{j} \\otimes Z_{j+1} + \\mu \\sum_{i=1}^n Z_i\n",
    "$$\n",
    "\n",
    "where $\\mu \\in \\R$ is a real parameter that represents the strength of the global magnetic field relative to the interactions between neighboring magnets.\n",
    "\n",
    "Fix a string $x \\in \\{0,1\\}^n$ and consider the corresponding $n$-qubit basis state $\\ket{x} = \\ket{x_1,\\ldots,x_n}$.\n",
    "\n",
    "Give a formula for the quantity $\\bra{x} H \\ket{x}$ in terms of the strings $x$ and the parameter $\\mu$. \n",
    "\n",
    "Use this to deduce the spectral decomposition (i.e. find its eigenvectors and eigenvalues) of $H$, as a function of $\\mu$."
   ]
  },
  {
   "cell_type": "markdown",
   "id": "25bc928a",
   "metadata": {},
   "source": [
    "## Solution"
   ]
  },
  {
   "cell_type": "markdown",
   "id": "d3e82e3c",
   "metadata": {},
   "source": [
    "## Problem 2.2\n",
    "\n",
    "Suppose $\\mu = 0$. What is the minimum energy of $H$ and what are the ground states of $H$? What is the maximum energy of $H$ and what states achieve the maximum energy?"
   ]
  },
  {
   "cell_type": "markdown",
   "id": "595c272a",
   "metadata": {},
   "source": [
    "## Solution"
   ]
  },
  {
   "cell_type": "markdown",
   "id": "2b9351bf",
   "metadata": {},
   "source": [
    "## Problem 2.3\n",
    "\n",
    "\n",
    "Suppose $\\mu = 1$. What is the ground energy and ground states of $H$? What about when $\\mu = -1$?\n",
    "\n"
   ]
  },
  {
   "cell_type": "markdown",
   "id": "7642576e",
   "metadata": {},
   "source": [
    "## Solution"
   ]
  },
  {
   "cell_type": "markdown",
   "id": "41f80f2f",
   "metadata": {},
   "source": [
    "## Problem 2.4\n",
    "\n",
    "Give a qualitative description of what the ground states of $H$ are, depending on $\\mu$. What happens as $\\mu \\to \\infty$ or $\\mu \\to -\\infty$? Are there \"critical points\" of $\\mu$ where the behavior of the ground states seem to change?"
   ]
  },
  {
   "cell_type": "markdown",
   "id": "b4f33d2a",
   "metadata": {},
   "source": [
    "## Solution"
   ]
  },
  {
   "cell_type": "markdown",
   "id": "20e6fa44",
   "metadata": {},
   "source": [
    "# Problem 3: Quantum Graph Algorithms"
   ]
  },
  {
   "cell_type": "markdown",
   "id": "3083d35d",
   "metadata": {},
   "source": [
    "## Problem 3.1\n",
    "\n",
    "In this problem you will design a quantum query algorithm to determine whether a graph is connected (i.e. there is a path between every pair of vertices). Let $G$ be an $n$-vertex undirected graph and let $A$ denote the $n \\times n$ adjacency matrix for $G$ (i.e., $A_{ij} = 1$ if and only if there is an edge between vertices $i$ and $j$ in the graph). Suppose you are given access to an oracle $V$ that, on a basis state $\\ket{i,j,a}$ for some $i,j \\in [n]$ and $a \\in \\{0,1\\}$, maps it to the state $\\ket{i,j,a \\oplus A_{ij}}$. In other words, if $(i,j)$ is an edge in the graph, then $V|i,j,a \\rangle = |i,j,a \\oplus 1 \\rangle$, and otherwise $V|i,j,a\\rangle = |i,j,a\\rangle$.\n",
    "\n",
    "Design and analyze a quantum algorithm that makes at most $O(n^{3/2} \\log n)$ calls to the oracle $V$ and determines if the graph $G$ is connected with probability at least $99\\%$. To design your algorithm, you may use any classical graph algorithm (depth-first search, breadth-first search, etc.), combined with any of the quantum algorithms we have learned in class as a subroutine. \n",
    "\n",
    "This constitutes a quantum speedup, because any **classical** algorithm must make $\\Omega(n^2)$ queries to the adjacency matrix $A$ to determine whether a graph is connected (even if the algorithm is randomized).\n",
    "\n",
    "**Hint**: if you use Grover's algorithm that makes $O(\\sqrt{n})$ queries as we've learned about it in class, be mindful that it has some probability of error. In general, if the number of solutions are not known ahead of time, then there is some constant probability of error (say at least $1\\%$)."
   ]
  },
  {
   "cell_type": "markdown",
   "id": "4eba9be6",
   "metadata": {},
   "source": [
    "## Solution"
   ]
  },
  {
   "cell_type": "markdown",
   "id": "bded6986",
   "metadata": {},
   "source": [
    "## Problem 3.2\n",
    "\n",
    "Show that any quantum algorithm must make at least $\\Omega(\\sqrt{n})$ queries to the oracle $V$ in order to determine whether the graph $G$ is connected. \n",
    "\n",
    "**Hint:** You can assume the optimality of Grover's algorithm for unstructured search.\n",
    "\n",
    "**Bonus**: Prove that $\\Omega(n)$ queries to the oracle $V$ are needed."
   ]
  },
  {
   "cell_type": "markdown",
   "id": "9925c17f",
   "metadata": {},
   "source": [
    "## Solution"
   ]
  },
  {
   "cell_type": "markdown",
   "id": "99784e79",
   "metadata": {},
   "source": [
    "# Problem 4: NP-hardness of estimating output probabilities\n",
    "\n",
    "Suppose that there existed a classical algorithm $A$ that does the following amazing thing: when given input $(C,x)$ where $C$ describes a quantum circuit acting on $n$ qubits with $m$ gates, and $x$ is an $n$-bit string, it outputs a number $\\alpha$ such that\n",
    "\n",
    "$$\n",
    "\t\\left | \\alpha - p(C,x) \\right | \\leq 2^{-10n}\n",
    "$$\n",
    "\n",
    "where\n",
    "\n",
    "$$\n",
    "\tp(C,x) = \\left | \\bra{x} C \\ket{0^n} \\right |^2.\n",
    "$$\n",
    "\n",
    "is the probability that, when measuring the final state of $C$ on all the all zeroes input, yields measurement outcome $x$. In other words, the output of the algorithm $A$ on $(C,x)$ is a number that equal to $p(C,x)$ up to $10n$ digits of precision. Furthermore, the algorithm $A$ runs in time polynomial in $n$ and $m$.\n",
    "\n",
    "Show that this would imply $\\sf P = \\sf NP$ by showing that, if such an amazing algorithm $A$ existed, then one could use $A$ to solve 3SAT (or your favorite $\\sf NP$-complete problem) in polynomial time. Therefore, one shouldn't expect it to be possible to efficiently calculate output probabilities of general quantum circuits. Recall that in the 3SAT problem, you're given a boolean formula of the form $(x_1 \\vee x_2 \\vee \\neg x_5) \\wedge (\\neg x_7 \\vee x_1 \\vee \\neg x_{11}) \\wedge \\cdots$, and the goal is to determine whether there exists an assignment to the variables that satisfies the formula.\n",
    "\n",
    "**Hint**: you'll want show that for an instance $\\varphi$ of a $\\sf NP$-complete problem (such as 3SAT), you can transform that problem into a polynomial-sized quantum circuit $C_\\varphi$ such that the answer to the problem $\\varphi$ (whether it's satisfiable, graph colorable, etc.) can be encoded into the probability of some outcome of measuring the circuit $C_\\varphi$ on the all zeroes input."
   ]
  },
  {
   "cell_type": "markdown",
   "id": "58b17e60",
   "metadata": {},
   "source": [
    "## Solution"
   ]
  },
  {
   "cell_type": "code",
   "execution_count": null,
   "id": "9d3b5a8b",
   "metadata": {},
   "outputs": [],
   "source": []
  }
 ],
 "metadata": {
  "kernelspec": {
   "display_name": "Python 3 (ipykernel)",
   "language": "python",
   "name": "python3"
  },
  "language_info": {
   "codemirror_mode": {
    "name": "ipython",
    "version": 3
   },
   "file_extension": ".py",
   "mimetype": "text/x-python",
   "name": "python",
   "nbconvert_exporter": "python",
   "pygments_lexer": "ipython3",
   "version": "3.8.9"
  },
  "vscode": {
   "interpreter": {
    "hash": "0496f9bd3589af8a458940f52e746dd431c597080565717c85ba61b585cc60bf"
   }
  }
 },
 "nbformat": 4,
 "nbformat_minor": 5
}
