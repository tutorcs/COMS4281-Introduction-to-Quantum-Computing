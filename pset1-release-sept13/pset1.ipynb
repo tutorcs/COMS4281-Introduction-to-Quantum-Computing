{
 "cells": [
  {
   "cell_type": "code",
   "execution_count": 1,
   "id": "6c3c690a",
   "metadata": {},
   "outputs": [],
   "source": [
    "%run utils.py "
   ]
  },
  {
   "cell_type": "markdown",
   "id": "406cddce",
   "metadata": {},
   "source": [
    "#### COMS 4281 - Intro to Quantum Computing \n",
    "\n",
    "# Problem Set 1, Quantum Info Basics\n",
    "\n",
    "### Due: September 23, 11:59pm\n",
    "Collaboration is allowed and encouraged (teams of at most 3).  Please read the syllabus carefully for the guidlines regarding collaboration.  In particular, everyone must write their own solutions in their own words. \n",
    "\n",
    "_Please write your collaborators here_: \n",
    "\n",
    "$\\newcommand{\\ket}[1]{\\left|{#1}\\right\\rangle} \\newcommand{\\bra}[1]{\\left\\langle{#1}\\right|}\n",
    "\\newcommand{\\ip}[2]{\\langle #1 | #2 \\rangle}\n",
    "\\newcommand{\\ketbra}[2]{|#1\\rangle\\! \\langle #2|}\n",
    "\\newcommand{\\C}{\\mathbb{C}}$"
   ]
  },
  {
   "cell_type": "markdown",
   "id": "265cff7e",
   "metadata": {},
   "source": [
    "# Problem 1: Bra-Ket Notation Basics\n",
    "\n",
    "Define $\\ket{\\psi} = \\alpha \\ket{0} + \\beta \\ket{+}$.\n",
    "    \n",
    "1. Write out the state $\\ket{\\psi}$ as linear combinations of the standard basis states $\\ket{0},\\ket{1}$. In order for $\\ket{\\psi}$ to be a valid quantum state (i.e. be a unit vector), what are the conditions on $\\alpha,\\beta$?\n",
    "\n",
    "2. Since $\\{ \\ket{+}, \\ket{-} \\}$ also forms a basis of $\\C^2$ (sometimes called the *diagonal basis*), write $\\ket{\\psi}$ as a linear combinations of $\\ket{+}$ and $\\ket{-}$.\n",
    "\n",
    "3. What is the probability of obtaining the $\\ket{0}$ and $\\ket{1}$ states when measuring $H\\ket{\\psi}$?"
   ]
  },
  {
   "cell_type": "markdown",
   "id": "ce05152b",
   "metadata": {},
   "source": [
    "### Solution\n",
    "\n",
    "_write your solution here, using LaTeX and Markdown_"
   ]
  },
  {
   "cell_type": "markdown",
   "id": "57494e1a",
   "metadata": {},
   "source": [
    "\n",
    "\n",
    "\n",
    "\n",
    "\n"
   ]
  },
  {
   "cell_type": "markdown",
   "id": "8e240ed9",
   "metadata": {},
   "source": [
    "# Problem 2: Outer Products and Projections\n",
    "\n",
    "Recall that $\\langle \\psi | \\theta \\rangle$ denotes a scalar, because is an inner product between two vectors (i.e., you have a row vector followed by a column vector). Now consider $| \\psi \\rangle \\langle \\theta |$, which denotes the outer product between the two vectors (i.e., a column vector followed by a row vector). The outer product of two vectors is a matrix. \n",
    "\n",
    "1. Show that $\\ketbra{0}{0} = \\frac{1}{2}(I + Z)$ and $\\ketbra{+}{+} = \\frac{1}{2}(I + X)$, where $Z = \\begin{pmatrix} 1 & 0 \\\\ 0 & -1 \\end{pmatrix}$ and $X = \\begin{pmatrix} 0 & 1 \\\\ 1 & 0 \\end{pmatrix}$.\n",
    "\n",
    "2. Let $\\{\\ket{0},\\ket{1},\\ldots, \\ket{n-1}\\}$ denote the standard basis for $\\mathbb{C}^n$. Show that $I = \\sum_{x=0}^{n-1} \\ketbra{x}{x}$. This simple identity known as the ``completeness relation`` can be very useful. \n",
    "\n",
    "3. Use the completeness relation to show that $\\ket{\\psi} = \\sum_x \\ip{x}{\\psi} \\ket{x}$ for any vector $\\ket{\\psi}$. Thus the amplitudes of $\\ket{\\psi}$, in the standard basis, can be written as inner products of $\\ket{\\psi}$ with the standard basis vectors."
   ]
  },
  {
   "cell_type": "markdown",
   "id": "432a3675",
   "metadata": {},
   "source": [
    "### Solution\n",
    "\n",
    "_write your solution here, using LaTeX and Markdown_"
   ]
  },
  {
   "cell_type": "markdown",
   "id": "62de58fd",
   "metadata": {},
   "source": [
    "\n",
    "\n",
    "\n",
    "\n",
    "\n"
   ]
  },
  {
   "cell_type": "markdown",
   "id": "ee7f2fb5",
   "metadata": {},
   "source": [
    "# Problem 3: Composite Quantum Systems\n",
    "\n",
    "Here are some questions to help you get used to the tensor product.\n",
    "\n",
    "Let $A \\in \\mathbb R^{n \\times n}$ and $B \\in \\mathbb R^{m \\times m}$. Recall that the tensor product $A \\otimes B$ can be given by:\n",
    "\n",
    "\\begin{align*}\n",
    "A \\otimes B = \n",
    "    \\begin{bmatrix}\n",
    "        A_{11}B & A_{12}B & \\cdots & A_{1n}B\\\\\n",
    "        A_{11}B & A_{12}B & \\cdots & A_{2n}B\\\\\n",
    "        \\vdots & \\vdots &\\ddots & \\vdots\\\\\n",
    "        A_{n1}B & A_{n2}B & \\cdots & A_{nn}B\n",
    "    \\end{bmatrix}\n",
    "\\end{align*}\n",
    "\n",
    "is an $nm \\times nm$ dimensional matrix. This is also known as the *Kronecker product* which is a way to represent the tensor product with respect to a given basis.\n",
    "\n",
    "1. Give the explicit matrix representations for the matrices $I \\otimes H$, $H \\otimes I$ and $H \\otimes H$.\n",
    "\n",
    "2. Compute $(I \\otimes H)\\ket{0,1}$, $(H \\otimes I)\\ket{0,1}$ and $(H \\otimes H)\\ket{0,1}$, expressing the results in the standard basis (i.e. $\\sum_{i, j \\in \\{0, 1\\}}c_{ij}\\ket{i}\\ket{j}$ and some constants $c_{ij} \\in \\mathbb{C}$)"
   ]
  },
  {
   "cell_type": "markdown",
   "id": "d5e16494",
   "metadata": {},
   "source": [
    "### Solution\n",
    "\n",
    "_write your solution here, using LaTeX and Markdown_"
   ]
  },
  {
   "cell_type": "markdown",
   "id": "d4d5174e",
   "metadata": {},
   "source": [
    "\n",
    "\n",
    "\n",
    "\n",
    "\n"
   ]
  },
  {
   "cell_type": "markdown",
   "id": "36ce0670",
   "metadata": {},
   "source": [
    "# Problem 4: Quantum Entanglement\n",
    "\n",
    "For each of the following quantum states, say whether they are entangled or unentangled across the specified bipartition, and justify your answer."
   ]
  },
  {
   "cell_type": "markdown",
   "id": "4f8555a2",
   "metadata": {},
   "source": [
    "1. $\\ket{\\Phi} = \\frac{1}{\\sqrt{2}} \\Big( \\ket{00} + \\ket{11} \\Big) =  \\begin{pmatrix} 1/\\sqrt{2} \\\\ 0 \\\\ 0 \\\\ 1/\\sqrt{2} \\end{pmatrix}$ is a two-qubit state in $\\mathbb{C}^2 \\otimes \\mathbb{C}^2$, called the ``EPR pair``. Are the two qubits entangled?\n",
    "\n",
    "2. $\\ket{\\psi} = \\frac{1}{\\sqrt{2^n}} \\sum_{x \\in \\{0,1\\}^n} \\ket{x}$ is an $n$-qubit state where $\\ket{x} = \\ket{x_1} \\otimes \\ket{x_2} \\otimes \\cdots \\otimes \\ket{x_n}$ is a basis state for $(\\mathbb{C}^2)^{\\otimes n}$. Let's say we divide the $n$ qubits into the first $j$ and the last $n - j$ qubits. Is the state entangled across the bipartition $(\\mathbb{C}^2)^{\\otimes j} \\otimes (\\mathbb{C}^2)^{\\otimes (n-j)}$?\n",
    "\n",
    "3. Let $\\ket{\\Phi}$ be the EPR pair. Let $H = \\frac{1}{\\sqrt{2}} \\begin{pmatrix} 1 & 1 \\\\ 1 & -1 \\end{pmatrix}$ denote the Hadamard gate. Is the state $(I \\otimes H) \\ket{\\Phi}$ entangled?\n",
    "\n",
    "4. Is the state $CNOT \\ket{\\Phi}$ entangled?"
   ]
  },
  {
   "cell_type": "markdown",
   "id": "ba06a8bc",
   "metadata": {},
   "source": [
    "### Solution\n",
    "\n",
    "_write your solution here, using LaTeX and Markdown_"
   ]
  },
  {
   "cell_type": "markdown",
   "id": "9161dde5",
   "metadata": {},
   "source": [
    "\n",
    "\n",
    "\n",
    "\n",
    "\n"
   ]
  },
  {
   "cell_type": "markdown",
   "id": "f8358dbe",
   "metadata": {},
   "source": [
    "# Problem 5: Implement a Quantum Circuit\n",
    "\n",
    "In this problem, you will implement a simple quantum circuit that constructs the $\\ket{\\psi} = \\frac{1}{\\sqrt{2}}(\\ket{000} - \\ket{111})$ from the all zeroes state. In other words, you will find a circuit $C$ such that\n",
    "\n",
    "$$C \\ket{000} = \\ket{\\psi}$$\n",
    "\n",
    "In this problem, you will use the Qiskit library to implement, visualize, and analyze the circuit $C$."
   ]
  },
  {
   "cell_type": "markdown",
   "id": "21156d0a",
   "metadata": {},
   "source": [
    "1. Design a circuit $C$ to prepare the state $\\ket{\\psi}$, and write the corresponding Qiskit code between the \"BEGIN CODE\" and \"END CODE\" delineations below. You may use any of the gates we have learned in class. We've already created the circuit object, you just need to specify what gates to add."
   ]
  },
  {
   "cell_type": "code",
   "execution_count": 2,
   "id": "3c58b986",
   "metadata": {},
   "outputs": [
    {
     "data": {
      "image/png": "[encoded data removed]",
      "text/plain": [
       "<Figure size 115.832x204.68 with 1 Axes>"
      ]
     },
     "execution_count": 2,
     "metadata": {},
     "output_type": "execute_result"
    }
   ],
   "source": [
    "def create_sym_state_circuit(): \n",
    "    qr = QuantumRegister(3, name='x')\n",
    "    qc = QuantumCircuit(qr)\n",
    "    \n",
    "    # ========= BEGIN CODE =================\n",
    "    \n",
    "\n",
    "    \n",
    "    # ========= END CODE =================\n",
    "    \n",
    "    \n",
    "    return qc\n",
    "\n",
    "qc = create_sym_state_circuit()\n",
    "qc.draw(output='mpl')"
   ]
  },
  {
   "cell_type": "markdown",
   "id": "8432b085",
   "metadata": {},
   "source": [
    "3. Consult the qiskit documentation and use its API to obtain the output state of the circuit you just created as a **vector** (i.e. a list of amplitudes). <br /> It doesn't matter for this problem, but keep in mind that qiskit uses the **little-endian** convention (e.g., qubits are ordered right to left; for more info see [this](https://quantumcomputing.stackexchange.com/questions/8244/big-endian-vs-little-endian-in-qiskit)). We provide a function *beautify*, which given input `amplitude` and `k` where `amplitude` is a list of $2^k$ complex numbers and $k$ is an integer, prints the amplitude list as a quantum state. See the code below as an example. "
   ]
  },
  {
   "cell_type": "code",
   "execution_count": 16,
   "id": "f66e2d25",
   "metadata": {},
   "outputs": [
    {
     "name": "stdout",
     "output_type": "stream",
     "text": [
      "State vector: -1.55 |00> + (-1+0.1i) |01> - 1.1i |11>\n"
     ]
    }
   ],
   "source": [
    "# Example for beautify\n",
    "amplitudes = [complex(-1.55345, 0),   complex(0,0),   complex(-1, 0.1),    complex(0,-1.1)]\n",
    "print('State vector:', beautify(amplitudes, 2))"
   ]
  },
  {
   "cell_type": "markdown",
   "id": "3d17d432",
   "metadata": {},
   "source": [
    "In the following code block, print the output of the circuit you created in Part 1 above as a vector in beautified form."
   ]
  },
  {
   "cell_type": "code",
   "execution_count": 4,
   "id": "d0746c78",
   "metadata": {},
   "outputs": [],
   "source": [
    "# ========= BEGIN CODE =================\n",
    "\n",
    "\n",
    "\n",
    "# ========= END CODE ================="
   ]
  },
  {
   "cell_type": "markdown",
   "id": "8a050b58",
   "metadata": {},
   "source": [
    "4. Write code to measure all the qubits of the $\\ket{\\psi}$ state in the standard basis and visualize the measurement statistics using a histogram."
   ]
  },
  {
   "cell_type": "code",
   "execution_count": 5,
   "id": "63de0bee",
   "metadata": {},
   "outputs": [],
   "source": [
    "# ========= BEGIN CODE =================\n",
    "\n",
    "\n",
    "# ========= END CODE ================="
   ]
  },
  {
   "cell_type": "markdown",
   "id": "5febbba1",
   "metadata": {},
   "source": [
    "5. Consider running the following circuit with $\\ket{\\psi}$ as input. Let $\\ket{\\theta}$ denote the output state. Calculate the state $\\ket{\\theta}$ by computing the intermediate states of the circuit, and write it out below in $\\LaTeX$.\n",
    "\n",
    "<img src=\"http://www.henryyuen.net/fall2022/psets/pset1/pset1_5.png\" width=\"200px\" />"
   ]
  },
  {
   "cell_type": "markdown",
   "id": "47ffc39c",
   "metadata": {},
   "source": [
    "### Solution"
   ]
  },
  {
   "cell_type": "markdown",
   "id": "912096dc",
   "metadata": {},
   "source": [
    "6. Write code to implement a circuit that prepares the state $\\ket{\\theta}$, measure it in the standard basis and visualize the statistics using a histogram."
   ]
  },
  {
   "cell_type": "code",
   "execution_count": 6,
   "id": "81419c65",
   "metadata": {},
   "outputs": [],
   "source": [
    "# ========= BEGIN CODE =================\n",
    "\n",
    "\n",
    "# ========= END CODE ================="
   ]
  },
  {
   "cell_type": "markdown",
   "id": "6258e6b4",
   "metadata": {},
   "source": [
    "# Problem 6: A Quantum Two-bit Adder\n",
    "\n",
    "The classical two-bit adder is an **irreversible** function that takes in four bits, $(A_0,A_1)$ and $(B_0,B_1)$, and outputs three bits $(C_0,Q_0,Q_1)$ which is the binary representation of the sum of $2 A_1 + A_0$ and $2 B_1 + B_0$ (i.e., integers that $(A_0,A_1)$ and $(B_0,B_1)$ represent in binary). For example, on input $(0,1)$ and $(1,1)$ the two bit adder should return $(1,0,0)$. On input $(1,1)$ and $(1,1)$ it should output $(1,1,0)$. \n",
    "\n",
    "You can find a circuit for an irreversible circuit for the two-bit adder [here](https://img.f-alpha.net/electronics/digital_electronics/adder/circuit_diagram_2_bit_adder.gif), consisting of XOR, OR, and AND gates (see [Wikipedia](https://en.wikipedia.org/wiki/Logic_gate) for gate symbol reference).\n",
    "\n",
    "In this problem you will implement a **reversible** two-bit adder in Qiskit.\n"
   ]
  },
  {
   "cell_type": "markdown",
   "id": "3fa42a28",
   "metadata": {},
   "source": [
    "1. First, let's implement reversible versions of the XOR, OR, and AND gates. Recall that every boolean function $f$ can be converted to a reversible transformation $T_f$ using an additional ancilla bit. Since XOR, OR, AND map 2 bits to 1 bit, the reversible functions $T_{XOR}, T_{OR}, T_{AND}$ will map 3 bits to 3 bits. The corresponding matrices are $8 \\times 8$.\n",
    "\n",
    "In the functions below, enter the matrix representations of $T_{XOR}, T_{OR}, T_{AND}$ below (replace the entries with the appropriate values). The row/columns are ordered as follows: $\\ket{000}, \\ket{001}, \\ket{010},\\ldots,\\ket{111}$.\n",
    "\n",
    "Your implementations of reversible XOR, OR, and AND will be tested."
   ]
  },
  {
   "cell_type": "code",
   "execution_count": 7,
   "id": "5d4df2c4",
   "metadata": {},
   "outputs": [],
   "source": [
    "def create_Tor(qr: QuantumRegister) -> QuantumCircuit:\n",
    "    assert len(qr) == 3, 'Tor gate should operate on 3 qubits.'\n",
    "    qc = QuantumCircuit(qr)\n",
    "    ##### FILL IN THE MATRIX BELOW FOR THE REVERSIBLE OR GATE ##########\n",
    "    Tor = Operator([\n",
    "        [1, 0, 0, 0, 0, 0, 0, 0],\n",
    "        [0, 1, 0, 0, 0, 0, 0, 0],\n",
    "        [0, 0, 1, 0, 0, 0, 0, 0],\n",
    "        [0, 0, 0, 1, 0, 0, 0, 0],\n",
    "        [0, 0, 0, 0, 1, 0, 0, 0],\n",
    "        [0, 0, 0, 0, 0, 1, 0, 0],\n",
    "        [0, 0, 0, 0, 0, 0, 1, 0],\n",
    "        [0, 0, 0, 0, 0, 0, 0, 1],\n",
    "    ])\n",
    "    ####################################################################\n",
    "    qc.unitary(Tor, [2, 1, 0], label='Tor')\n",
    "    return qc\n",
    "\n",
    "def create_Txor(qr: QuantumRegister) -> QuantumCircuit:\n",
    "    assert len(qr) == 3, 'Txor gate should operate on 3 qubits.'\n",
    "    qc = QuantumCircuit(qr)\n",
    "    ##### FILL IN THE MATRIX BELOW FOR THE REVERSIBLE XOR GATE ##########\n",
    "    Txor = Operator([\n",
    "        [1, 0, 0, 0, 0, 0, 0, 0],\n",
    "        [0, 1, 0, 0, 0, 0, 0, 0],\n",
    "        [0, 0, 1, 0, 0, 0, 0, 0],\n",
    "        [0, 0, 0, 1, 0, 0, 0, 0],\n",
    "        [0, 0, 0, 0, 1, 0, 0, 0],\n",
    "        [0, 0, 0, 0, 0, 1, 0, 0],\n",
    "        [0, 0, 0, 0, 0, 0, 1, 0],\n",
    "        [0, 0, 0, 0, 0, 0, 0, 1],\n",
    "    ])\n",
    "    ####################################################################\n",
    "    qc.unitary(Txor, [2, 1, 0], label='Txor')\n",
    "    return qc\n",
    "\n",
    "def create_Tand(qr: QuantumRegister) -> QuantumCircuit:\n",
    "    assert len(qr) == 3, 'Tand gate should operate on 3 qubits.'\n",
    "    qc = QuantumCircuit(qr)\n",
    "    ##### FILL IN THE MATRIX BELOW FOR THE REVERSIBLE AND GATE ##########\n",
    "    Tand = Operator([\n",
    "        [1, 0, 0, 0, 0, 0, 0, 0],\n",
    "        [0, 1, 0, 0, 0, 0, 0, 0],\n",
    "        [0, 0, 1, 0, 0, 0, 0, 0],\n",
    "        [0, 0, 0, 1, 0, 0, 0, 0],\n",
    "        [0, 0, 0, 0, 1, 0, 0, 0],\n",
    "        [0, 0, 0, 0, 0, 1, 0, 0],\n",
    "        [0, 0, 0, 0, 0, 0, 1, 0],\n",
    "        [0, 0, 0, 0, 0, 0, 0, 1],\n",
    "    ])\n",
    "    ####################################################################\n",
    "    qc.unitary(Tand, [2, 1, 0], label='Tand')\n",
    "    return qc"
   ]
  },
  {
   "cell_type": "code",
   "execution_count": 8,
   "id": "30ea50f6",
   "metadata": {},
   "outputs": [
    {
     "name": "stdout",
     "output_type": "stream",
     "text": [
      "Testing gates...\n",
      "OR gate: Error.\n",
      "XOR gate: Error.\n",
      "AND gate: Error.\n"
     ]
    }
   ],
   "source": [
    "#Running test cases on your adder....\n",
    "test_gates([create_Tor,create_Txor,create_Tand])"
   ]
  },
  {
   "cell_type": "markdown",
   "id": "b10a33c9",
   "metadata": {},
   "source": [
    "3. You can now put together reversible circuits consisting of $T_{XOR}$, $T_{OR}$, and $T_{AND}$ by using the  functions `create_Tor`, `create_Txor`, and `create_Tand`, and also a helper function called `append` that allows you to append a gate $G$ to a circuit $C$. The function takes in a circuit $C$, a function $g$ constructs the gate $G$, and a list of bits that $G$ operates on. See the code below as an example."
   ]
  },
  {
   "cell_type": "code",
   "execution_count": 9,
   "id": "7bd2dd31",
   "metadata": {},
   "outputs": [
    {
     "data": {
      "image/png": "[encoded data removed]",
      "text/plain": [
       "<Figure size 266.761x264.88 with 1 Axes>"
      ]
     },
     "execution_count": 9,
     "metadata": {},
     "output_type": "execute_result"
    }
   ],
   "source": [
    "### EXAMPLE ONLY ###############\n",
    "qx = QuantumRegister(2, name=\"x\")\n",
    "qa = QuantumRegister(2, name=\"a\")\n",
    "qc = QuantumCircuit(qx,qa)                #add the X register and A registers\n",
    "qc = append(qc, create_Tand, [0, 1, 2])   #reversible AND acting on (x0,x1) and ancilla a0\n",
    "qc = append(qc, create_Txor, [0,1,3])     #reversible XOR acting on (x0,x1) and ancilla a1\n",
    "qc.draw(output='mpl')"
   ]
  },
  {
   "cell_type": "markdown",
   "id": "e33d650d",
   "metadata": {},
   "source": [
    "Now, transform the irreversible circuit for the two-bit adder above to a **reversible** circuit $C$ for the two-bit adder. More precisely, the circuit $C$ should act on bits\n",
    "\n",
    "* $(A_0, A_1)$ representing the first number $A = 2A_1 + A_0$\n",
    "* $(B_0,B_1)$ representing the second number $B = 2B_1 + B_0$\n",
    "* $(C_0,C_1,C_2)$ representing the binary representation of $A + B$\n",
    "* Some number of ancilla bits $(D_0,D_1,\\ldots)$\n",
    "\n",
    "The circuit $C$ should have the behavior: for all inputs $A_0,A_1,B_0,B_1 \\in \\{0,1\\}$, \n",
    "\n",
    "$$C \\ket{A,B,0,0 \\cdots 0} = \\ket{\\underbrace{A}_{\\text{2 bits}},\\underbrace{B}_{\\text{2 bits}},\\underbrace{A+B}_{\\text{3 bits}},\\underbrace{S_{A,B}}_{\\text{ancillas}}}$$\n",
    "\n",
    "where $A, B$ are two bits and $A+B$ is represented by three bits. $S_{A,B}$ corresponds to the bits of the ancilla that depends on the inputs $A,B$. This data corresponds to the \"scratch work\" of the computation.\n",
    "\n",
    "Your circuit $C$ can use $T_{XOR}, T_{AND}, T_{OR}$, as well as $CNOT$, $X$, $Z$ and $H$ gates. Choose the appropriate number of ancillas, and then implement your circuit where indicated. The code afterwards will visualize your circuit as well run it on several test cases. "
   ]
  },
  {
   "cell_type": "code",
   "execution_count": 10,
   "id": "aa05082c",
   "metadata": {},
   "outputs": [
    {
     "data": {
      "image/png": "[encoded data removed]",
      "text/plain": [
       "<Figure size 116.697x505.68 with 1 Axes>"
      ]
     },
     "execution_count": 10,
     "metadata": {},
     "output_type": "execute_result"
    }
   ],
   "source": [
    "# Todo: fill in the number of ancillary qubits for your circuit\n",
    "num_anc = 1                        \n",
    "\n",
    "def create_two_bit_adder_with_scratch(num_anc):\n",
    "    A = QuantumRegister(2, name=\"a\") \n",
    "    B = QuantumRegister(2, name=\"b\") \n",
    "    C = QuantumRegister(3, name=\"c\") \n",
    "    D = QuantumRegister(num_anc, name=\"d\") \n",
    "    qc = QuantumCircuit(A,B,C,D)\n",
    "    \n",
    "    #### BEGIN YOUR CODE HERE ############################\n",
    "\n",
    "    \n",
    "    \n",
    "    ##### END YOUR CODE HERE ###############################\n",
    "    \n",
    "    return qc\n",
    "\n",
    "two_bit_adder_with_scratch = create_two_bit_adder_with_scratch(num_anc=num_anc)\n",
    "two_bit_adder_with_scratch.draw(output='mpl')"
   ]
  },
  {
   "cell_type": "code",
   "execution_count": 11,
   "id": "e9a8a180",
   "metadata": {},
   "outputs": [
    {
     "name": "stdout",
     "output_type": "stream",
     "text": [
      "Testing two-bit adder with scratch...\n",
      "Error (incorrect): A = 00, B = 01, C = 000.\n",
      "Error (incorrect): A = 00, B = 10, C = 000.\n",
      "Error (incorrect): A = 00, B = 11, C = 000.\n",
      "Error (incorrect): A = 01, B = 00, C = 000.\n",
      "Error (incorrect): A = 01, B = 01, C = 000.\n",
      "Error (incorrect): A = 01, B = 10, C = 000.\n",
      "Error (incorrect): A = 01, B = 11, C = 000.\n",
      "Error (incorrect): A = 10, B = 00, C = 000.\n",
      "Error (incorrect): A = 10, B = 01, C = 000.\n",
      "Error (incorrect): A = 10, B = 10, C = 000.\n",
      "Error (incorrect): A = 10, B = 11, C = 000.\n",
      "Error (incorrect): A = 11, B = 00, C = 000.\n",
      "Error (incorrect): A = 11, B = 01, C = 000.\n",
      "Error (incorrect): A = 11, B = 10, C = 000.\n",
      "Error (incorrect): A = 11, B = 11, C = 000.\n"
     ]
    }
   ],
   "source": [
    "# Running test cases on your adder....\n",
    "test_two_bit_adder(two_bit_adder_with_scratch, num_anc, has_scratch=True)"
   ]
  },
  {
   "cell_type": "markdown",
   "id": "20530498",
   "metadata": {},
   "source": [
    "4. Now we go one step further to implement a reversible two-bit adder that does the same thing as above except the scratch bits start **and end** in the zero state. \n",
    "    $$C \\ket{A,B,0,0 \\cdots 0} = \\ket{A,B,A+B,0 \\cdots 0}$$\n",
    "   In other words, the scratch work is erased.\n",
    "   \n",
    "   *Hint*: Use an additional ancilla to save the output, and then reverse the computation."
   ]
  },
  {
   "cell_type": "code",
   "execution_count": 12,
   "id": "abf2dc86",
   "metadata": {},
   "outputs": [
    {
     "data": {
      "image/png": "[encoded data removed]",
      "text/plain": [
       "<Figure size 116.697x505.68 with 1 Axes>"
      ]
     },
     "execution_count": 12,
     "metadata": {},
     "output_type": "execute_result"
    }
   ],
   "source": [
    "def create_two_bit_adder() -> QuantumCircuit:\n",
    "    A = QuantumRegister(2, name=\"a\") \n",
    "    B = QuantumRegister(2, name=\"b\") \n",
    "    C = QuantumRegister(3, name=\"c\") \n",
    "    D = QuantumRegister(num_anc, name=\"d\") \n",
    "    qc = QuantumCircuit(A,B,C,D)\n",
    "    \n",
    "    #### BEGIN YOUR CODE HERE ############################\n",
    "    \n",
    "\n",
    "    \n",
    "    ##### END YOUR CODE HERE ###############################\n",
    "    \n",
    "    return qc\n",
    "\n",
    "two_bit_adder = create_two_bit_adder()\n",
    "two_bit_adder.draw(output='mpl')"
   ]
  },
  {
   "cell_type": "code",
   "execution_count": 13,
   "id": "9ce871ec",
   "metadata": {},
   "outputs": [
    {
     "name": "stdout",
     "output_type": "stream",
     "text": [
      "Testing two-bit adder without scratch...\n",
      "Error (incorrect): A = 00, B = 01, C = 000.\n",
      "Error (incorrect): A = 00, B = 10, C = 000.\n",
      "Error (incorrect): A = 00, B = 11, C = 000.\n",
      "Error (incorrect): A = 01, B = 00, C = 000.\n",
      "Error (incorrect): A = 01, B = 01, C = 000.\n",
      "Error (incorrect): A = 01, B = 10, C = 000.\n",
      "Error (incorrect): A = 01, B = 11, C = 000.\n",
      "Error (incorrect): A = 10, B = 00, C = 000.\n",
      "Error (incorrect): A = 10, B = 01, C = 000.\n",
      "Error (incorrect): A = 10, B = 10, C = 000.\n",
      "Error (incorrect): A = 10, B = 11, C = 000.\n",
      "Error (incorrect): A = 11, B = 00, C = 000.\n",
      "Error (incorrect): A = 11, B = 01, C = 000.\n",
      "Error (incorrect): A = 11, B = 10, C = 000.\n",
      "Error (incorrect): A = 11, B = 11, C = 000.\n"
     ]
    }
   ],
   "source": [
    "#Running test cases on your adder....\n",
    "test_two_bit_adder(two_bit_adder, num_anc, has_scratch=False)"
   ]
  },
  {
   "cell_type": "code",
   "execution_count": null,
   "id": "35dbedff",
   "metadata": {},
   "outputs": [],
   "source": []
  }
 ],
 "metadata": {
  "kernelspec": {
   "display_name": "Python 3 (ipykernel)",
   "language": "python",
   "name": "python3"
  },
  "language_info": {
   "codemirror_mode": {
    "name": "ipython",
    "version": 3
   },
   "file_extension": ".py",
   "mimetype": "text/x-python",
   "name": "python",
   "nbconvert_exporter": "python",
   "pygments_lexer": "ipython3",
   "version": "3.8.9"
  },
  "varInspector": {
   "cols": {
    "lenName": 16,
    "lenType": 16,
    "lenVar": 40
   },
   "kernels_config": {
    "python": {
     "delete_cmd_postfix": "",
     "delete_cmd_prefix": "del ",
     "library": "var_list.py",
     "varRefreshCmd": "print(var_dic_list())"
    },
    "r": {
     "delete_cmd_postfix": ") ",
     "delete_cmd_prefix": "rm(",
     "library": "var_list.r",
     "varRefreshCmd": "cat(var_dic_list()) "
    }
   },
   "types_to_exclude": [
    "module",
    "function",
    "builtin_function_or_method",
    "instance",
    "_Feature"
   ],
   "window_display": false
  },
  "vscode": {
   "interpreter": {
    "hash": "0496f9bd3589af8a458940f52e746dd431c597080565717c85ba61b585cc60bf"
   }
  }
 },
 "nbformat": 4,
 "nbformat_minor": 5
}
