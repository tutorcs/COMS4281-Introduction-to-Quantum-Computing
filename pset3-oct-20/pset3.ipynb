{
 "cells": [
  {
   "cell_type": "code",
   "execution_count": null,
   "id": "37f786fa",
   "metadata": {},
   "outputs": [],
   "source": [
    "%run utils.py"
   ]
  },
  {
   "cell_type": "markdown",
   "id": "8aa3839d",
   "metadata": {},
   "source": [
    "#### COMS 4281 - Intro to Quantum Computing \n",
    "\n",
    "# Problem Set 3, Quantum Algorithms\n",
    "\n",
    "### Due: November 2, 11:59pm.\n",
    "Collaboration is allowed and encouraged (teams of at most 3).  Please read the syllabus carefully for the guidlines regarding collaboration.  In particular, everyone must write their own solutions in their own words.\n",
    "\n",
    "### Write your collaborators here:\n",
    "\n",
    "$\\newcommand{\\ket}[1]{\\left|{#1}\\right\\rangle} \\newcommand{\\bra}[1]{\\left\\langle{#1}\\right|}$\n",
    "$\\newcommand{\\C}{{\\mathbb{C}}}$\n",
    "$\\newcommand{\\N}{{\\mathbb{N}}}$\n",
    "$\\newcommand{\\F}{{\\mathbb{F}}}$\n",
    "$\\newcommand{\\K}{{\\mathbb{K}}}$\n",
    "$\\newcommand{\\R}{{\\mathbb{R}}}$\n",
    "$\\newcommand{\\Z}{{\\mathbb{Z}}}$"
   ]
  },
  {
   "cell_type": "markdown",
   "id": "041be559",
   "metadata": {},
   "source": [
    "# Problem 1: Basic Fourier Math"
   ]
  },
  {
   "cell_type": "markdown",
   "id": "f2e5072c",
   "metadata": {},
   "source": [
    "## Problem 1.1\n",
    "\n",
    "For two strings $x, y \\in \\{0,1\\}^n$, let $x \\cdot y$ denote \n",
    "$$\n",
    "    x_1 y_1 + x_2 y_2 + \\cdots + x_n y_n \\text{ mod } 2.\n",
    "$$\n",
    "\n",
    "Prove that for all $x \\in \\{0,1\\}^n$, \n",
    "$$\n",
    "    \\sum_{y \\in \\{0,1\\}^n} (-1)^{x \\cdot y} = \\begin{cases} 0 & \\text{ if $x \\neq 0^n$} \\\\ 2^n & \\text{ if $x = 0^n$} \\end{cases}\n",
    "$$"
   ]
  },
  {
   "cell_type": "markdown",
   "id": "1a2695b6",
   "metadata": {},
   "source": [
    "## Solution"
   ]
  },
  {
   "cell_type": "markdown",
   "id": "c7be7446",
   "metadata": {},
   "source": [
    "## Problem 1.2\n",
    "Let $\\omega_n = \\exp \\Big(\\frac{2 \\pi i}{n} \\Big)$ denote the $n$-th root of unity. Prove that for all integers $j$,\n",
    "\n",
    "$$\\sum_{k=0}^{n-1} \\omega_n^{jk} = \\begin{cases} 0  & \\mbox{if $j$ is not a multiple of $n$} \\\\ n & \\mbox{if $j$ is a multiple of $n$} \\end{cases}$$\n"
   ]
  },
  {
   "cell_type": "markdown",
   "id": "26810088",
   "metadata": {},
   "source": [
    "## Solution\n"
   ]
  },
  {
   "cell_type": "markdown",
   "id": "64a1606a",
   "metadata": {},
   "source": [
    "## Problem 1.3\n",
    "\n",
    "Let $N$ denote a positive integer between $2^{n-1}$ and $2^n$, and let $1 \\leq x \\leq N-1$ denote an integer such that $\\mathrm{gcd}(x,N) = 1$ (meaning that $x$ is coprime to $N$). Let $r$ be the order of $x$ modulo $N$; meaning that $x^r \\equiv 1 \\text{ mod } N$ (i.e., dividing $x^r$ by $N$ yields a remainder of $1$). Recall the unitary map acting on $n$ qubits such that for all $0 \\leq y < 2^n$,\n",
    "\n",
    "$$U_x \\ket{y} = \\begin{cases}\n",
    "\t\t\\ket{xy \\text{ mod } N}  & \\mbox{if } y < N \\\\\n",
    "\t\t\\ket{y} & \\mbox{otherwise}\n",
    "\t\\end{cases}$$\n",
    "    \n",
    "    \n",
    "and recall the eigenvectors\n",
    "\n",
    "$$\\ket{u_s} = \\frac{1}{\\sqrt{r}} \\sum_{k=0}^{r-1} \\omega_r^{ks} \\ket{x^k \\text{ mod } N}~.$$\n",
    "\n",
    "Show that \n",
    "\n",
    "$$\\frac{1}{\\sqrt{r}} \\sum_{s=0}^{r-1} \\ket{u_s} = \\ket{1}~.$$\n"
   ]
  },
  {
   "cell_type": "markdown",
   "id": "25bc928a",
   "metadata": {},
   "source": [
    "## Solution"
   ]
  },
  {
   "cell_type": "markdown",
   "id": "d3e82e3c",
   "metadata": {},
   "source": [
    "## Problem 1.4\n",
    "\n",
    "Recall the Fourier Transform unitary $F_N$ that acts as follows: for all $0 \\leq j < N$,\n",
    "\n",
    "$$F_N \\ket{f_j} = \\ket{j}$$\n",
    "\n",
    "where \n",
    "\n",
    "$$\\ket{f_j} = \\frac{1}{\\sqrt{N}} \\sum_{k=0}^{N-1} \\omega_N^{-jk} \\, \\ket{k}~.$$\n",
    "\n",
    "Compute the vector $F_N \\ket{j}$.\n",
    "\n",
    "**Note**: The definition of $\\ket{f_j}$ differs from the one presented in class, because the exponent of $\\omega_N$ is $-jk$ rather than $jk$. "
   ]
  },
  {
   "cell_type": "markdown",
   "id": "595c272a",
   "metadata": {},
   "source": [
    "## Solution"
   ]
  },
  {
   "cell_type": "markdown",
   "id": "20e6fa44",
   "metadata": {},
   "source": [
    "# Problem 2: Modified Simon's Algorithm"
   ]
  },
  {
   "cell_type": "markdown",
   "id": "3083d35d",
   "metadata": {},
   "source": [
    "In this problem you will analyze a variant of Simon's Problem. Suppose you are given black-box query access to a function $f : \\{ 0, 1\\}^n \\rightarrow \\{ 0, 1\\}^n$ that encodes **two** secrets $s,t \\in \\{0,1\\}^n$. This means that \n",
    "\n",
    "$$\n",
    "    f(x) = f(y) \\qquad \\text{if and only if } \\qquad x + y \\in \\{0^n, s,t, s + t \\}\n",
    "$$\n",
    "\n",
    "We will assume that $s,t$ are both nonzero and are not equal to each other. \n",
    "\n",
    "**Note**: the sum $x+y$ of two bit strings is another string where we've XOR'd the coordinates of $x$, $y$."
   ]
  },
  {
   "cell_type": "markdown",
   "id": "bded6986",
   "metadata": {},
   "source": [
    "## Problem 2.1\n",
    "\n",
    "Given such a function $f$, what is the size of its range? Meaning, how many possible strings can be output by $f$?"
   ]
  },
  {
   "cell_type": "markdown",
   "id": "716b0d2e",
   "metadata": {},
   "source": [
    "## Problem 2.2\n",
    "\n",
    "Write a classical + quantum hybrid algorithm that makes $\\mathrm{poly}(n)$ queries to $f$ and outputs, with high probability, the secrets $s,t$. You should use Simon's Algorithm for inspiration."
   ]
  },
  {
   "cell_type": "markdown",
   "id": "9925c17f",
   "metadata": {},
   "source": [
    "## Solution"
   ]
  },
  {
   "cell_type": "markdown",
   "id": "12d281f3",
   "metadata": {},
   "source": [
    "## Problem 2.3\n",
    "\n",
    "Prove that your algorithm works."
   ]
  },
  {
   "cell_type": "markdown",
   "id": "d412fd41",
   "metadata": {},
   "source": [
    "## Solution"
   ]
  },
  {
   "cell_type": "markdown",
   "id": "26e2c6a8",
   "metadata": {},
   "source": [
    "## Problem 2.4"
   ]
  },
  {
   "cell_type": "markdown",
   "id": "7505d1b6",
   "metadata": {},
   "source": [
    "What if we now considered the situation where the function $f$ is hiding not two but $k$ secrets $s^{(1)}, \\ldots, s^{(k)}$ (which are all nonzero and distinct strings). How would your answers to 7.2 and 7.3 change?"
   ]
  },
  {
   "cell_type": "markdown",
   "id": "cc2a0f4e",
   "metadata": {},
   "source": [
    "## Solution"
   ]
  },
  {
   "cell_type": "markdown",
   "id": "ba2cccdf",
   "metadata": {},
   "source": []
  },
  {
   "cell_type": "markdown",
   "id": "99784e79",
   "metadata": {},
   "source": [
    "# Problem 3: Quantum Minimum Finding\n",
    "\n",
    "## Problem 3.1\n",
    "Let $M \\geq 2$ be an integer. Devise a quantum algorithm that, in expectation, makes $O(\\sqrt{N})$ queries to a function $f:\\{0,1\\}^n \\to \\{0,1,\\ldots,M-1\\}$, and computes $\\min_x f(x)$. You can assume that $f$ is injective. \n",
    "\n",
    "__Hint__: Use that Grover's algorithm, when run on a function $g:\\{0,1\\}^n \\to \\{0,1\\}$ with $T$ solutions, outputs a uniformly random $x$ such that $g(x)=1$ using $c \\sqrt{N/T}$ queries in expectation for some constant $c$.\n",
    "    \n",
    "__Hint__: Your algorithm can have unbounded running time; you just need to show that the _expected_ number of queries before the algorithm finds the minimum is $O(\\sqrt{N})$."
   ]
  },
  {
   "cell_type": "markdown",
   "id": "58b17e60",
   "metadata": {},
   "source": [
    "## Solution"
   ]
  },
  {
   "cell_type": "markdown",
   "id": "03177fdd",
   "metadata": {},
   "source": [
    "## Problem 3.2\n",
    "\n",
    "Show that, assuming that Grover's algorithm is optimal for unstructured search (meaning that any quantum algorithm finding a preimage of $f:\\{0,1\\}^n \\to \\{0,1\\}$ requires $\\Omega(\\sqrt{N})$ queries to $f$), any quantum algorithm that finds the minimum of a function with high probability must also make $\\Omega(\\sqrt{N})$ queries."
   ]
  },
  {
   "cell_type": "markdown",
   "id": "f396e3e3",
   "metadata": {},
   "source": [
    "## Solution"
   ]
  },
  {
   "cell_type": "markdown",
   "id": "081477c0",
   "metadata": {},
   "source": [
    "## Problem 3.3 \n",
    "\n",
    "Now let's implement our minimum finding algorithm for arbitrary 5 qubit functions.  Below are helpers for converting functions into quantum oracles, and an implementation of the Grover's Diffusion gate, use those to help you implement minimum search, and test is on the examples given below.\n",
    "\n",
    "For fun, track the number of oracle calls you use (num_oracle_calls), but you won't lose points for using too many oracle calls if your solution is correct asymptotically."
   ]
  },
  {
   "cell_type": "code",
   "execution_count": null,
   "id": "2e90a2c0",
   "metadata": {},
   "outputs": [],
   "source": [
    "num_oracle_calls = 0\n",
    "\n",
    "def inc_num_oracle_calls():\n",
    "    global num_oracle_calls\n",
    "    num_oracle_calls += 1\n",
    "    \n",
    "def reset_num_oracle_calls():\n",
    "    global num_oracle_calls\n",
    "    num_oracle_calls = 0\n",
    "\n",
    "def append_oracle(input_circuit: QuantumCircuit,\n",
    "                  f: Callable[[int], bool],\n",
    "                  quantum_registers: List[int]) -> QuantumCircuit:\n",
    "    '''\n",
    "    append_oracle takes a boolean function (with inputs from 0 to 31) and appends a f-oracle to your circuit.\n",
    "    '''\n",
    "    inc_num_oracle_calls()\n",
    "    oracle_gate = UnitaryGate(np.diag([(-1)**f(i) for i in range(32)]))\n",
    "    input_circuit.append(oracle_gate, quantum_registers)\n",
    "    return input_circuit\n",
    "\n",
    "def append_diffusion_gate(input_circuit: QuantumCircuit, \n",
    "                          quantum_registers: List[int]) -> QuantumCircuit:\n",
    "    '''\n",
    "    Takes an input circuit and appends a diffusion gate to the registers.\n",
    "    The quantum registers must be length 5.\n",
    "    '''\n",
    "    if len(quantum_registers) != 5:\n",
    "        return None\n",
    "    for i in quantum_registers:\n",
    "        input_circuit.h(i)\n",
    "    diffuse = -1*np.eye(32)\n",
    "    diffuse[0,0] = 1\n",
    "    input_circuit.append(UnitaryGate(diffuse), quantum_registers)\n",
    "    for i in quantum_registers:\n",
    "        input_circuit.h(i)\n",
    "    return input_circuit\n",
    "\n",
    "def get_most_likely_outcome(quantum_circuit: QuantumCircuit) -> int:\n",
    "    backend = Aer.get_backend('qasm_simulator')\n",
    "    job_sim = backend.run(transpile(quantum_circuit, backend), shots=5024)\n",
    "    result_sim = job_sim.result()\n",
    "    counts = result_sim.get_counts(quantum_circuit)\n",
    "    return int(max(counts, key = counts.get), 2)"
   ]
  },
  {
   "cell_type": "markdown",
   "id": "5f081344",
   "metadata": {},
   "source": [
    "## Solution"
   ]
  },
  {
   "cell_type": "code",
   "execution_count": null,
   "id": "1840a1d0",
   "metadata": {},
   "outputs": [],
   "source": [
    "### ======== BEGIN CODE =============\n",
    "'''\n",
    "Below are some suggested templates for functions that would be useful to implement.\n",
    "You don't have to use them if you don't want\n",
    "\n",
    "'''\n",
    "\n",
    "def grovers_search_known_sols(f: Callable[[int], bool], num_sols: int) -> int:\n",
    "    '''\n",
    "    Runs Grovers search, assuming there are num_sols number of solutions (we'll search over this.)\n",
    "    Assumes that the input space is dimension 32.\n",
    "    '''\n",
    "\n",
    "def grovers_search(f: Callable[[int], bool]) -> int:\n",
    "    '''\n",
    "    Runs Grovers search with an unknown number of solutions by halving the guessed number of solutions each try.\n",
    "    Returns -1 if no answer is found.\n",
    "    '''\n",
    "    \n",
    "### ======== END CODE =============\n",
    "            \n",
    "def find_min(f: Callable[[int], int]) -> int:\n",
    "    reset_num_oracle_calls()\n",
    "    y = random.randrange(0, 32)\n",
    "    \n",
    "    ### ======== BEGIN CODE =============\n",
    "    ### ======== END CODE =============\n",
    "    \n",
    "    return y"
   ]
  },
  {
   "cell_type": "markdown",
   "id": "cd2aff28",
   "metadata": {},
   "source": [
    "Test your code on the following examples."
   ]
  },
  {
   "cell_type": "code",
   "execution_count": null,
   "id": "0ffa5fa0",
   "metadata": {
    "scrolled": true
   },
   "outputs": [],
   "source": [
    "f1 = lambda x: x - 16\n",
    "print(\"Minimum of f2 is: \", find_min(f1))\n",
    "print(\"Oracle calls used: \", num_oracle_calls)"
   ]
  },
  {
   "cell_type": "code",
   "execution_count": null,
   "id": "806fa3d9",
   "metadata": {},
   "outputs": [],
   "source": [
    "f2 = lambda x: x**2 - 13*x + 3\n",
    "print(\"Minimum of f2 is: \", find_min(f2))\n",
    "print(\"Oracle calls used: \", num_oracle_calls)"
   ]
  },
  {
   "cell_type": "code",
   "execution_count": null,
   "id": "d630f0b7",
   "metadata": {},
   "outputs": [],
   "source": [
    "f3 = lambda x: 1.0 - np.sin(x / 16)\n",
    "print(\"Minimum of f3 is: \", find_min(f3))\n",
    "print(\"Oracle calls used: \", num_oracle_calls)"
   ]
  },
  {
   "cell_type": "markdown",
   "id": "b5ac5c65",
   "metadata": {},
   "source": [
    "# Problem 4: Exploring Order Finding\n",
    "\n",
    "In this problem, we'll explore the quantum algorithm for Order Finding (which is different from the one covered in class; in fact this one is closer to the way Peter Shor implemented it).  Consider the following function\n",
    "\n",
    "$$\n",
    "f(x) = 3^{x}\\text{ mod } 16\n",
    "$$\n",
    "\n",
    "where $x$ ranges from $0$ to $15$, so that $x$ can be represented using $4$ bits. "
   ]
  },
  {
   "cell_type": "markdown",
   "id": "3b681431",
   "metadata": {},
   "source": [
    "## Problem 4.1\n",
    "\n",
    "What is the period $r$ of this function? Meaning, what value of $r$ is such that $f(x + r) = f(x)$ for all $x$?"
   ]
  },
  {
   "cell_type": "markdown",
   "id": "a85f0607",
   "metadata": {},
   "source": [
    "## Solution\n"
   ]
  },
  {
   "cell_type": "markdown",
   "id": "907697c8",
   "metadata": {},
   "source": [
    "## Problem 4.2\n",
    "\n",
    "Let's see how we could've figured this out using quantum computation!  First, we create a quantum circuit with 8 qubits and 4 classical bits to store measurement outcomes.\n",
    "\n",
    "Add gates to the order finding circuit to get to the following state:\n",
    "\n",
    "$$\n",
    "\\frac{1}{\\sqrt{16}}\\left(\\sum_{i = 0}^{15} \\ket{i}\\right) \\otimes \\ket{0}\n",
    "$$\n",
    "\n",
    "Note that here $\\ket{i}$ and $\\ket{0}$ refer to integers, but in your circuit they will need to be represented in binary using 4 bits."
   ]
  },
  {
   "cell_type": "code",
   "execution_count": null,
   "id": "3542ca62",
   "metadata": {},
   "outputs": [],
   "source": [
    "order_finding_circuit = QuantumCircuit(8,4)\n",
    "\n",
    "### ======== BEGIN CODE =============\n",
    "\n",
    "### ======== END CODE =============\n",
    "    \n",
    "order_finding_circuit.draw(output=\"mpl\")"
   ]
  },
  {
   "cell_type": "markdown",
   "id": "64a04d4f",
   "metadata": {},
   "source": [
    "## Problem 4.2\n",
    "\n",
    "We provide code that implements the $U_f$ unitary, which acts on 8 qubits (4 for input, 4 for ancilla) as follows:\n",
    "\n",
    "$$\n",
    "    U_f \\ket{i}\\ket{j} = \\ket{i}\\ket{j \\oplus f(i)}\n",
    "$$\n",
    "\n",
    "Append the oracle unitary to your circuit to get the following state\n",
    "$$\n",
    "\\frac{1}{\\sqrt{16}}\\left(\\sum_{i = 0}^{15} \\ket{i} \\otimes \\ket{3^i \\text{ mod } 16}\\right)\n",
    "$$"
   ]
  },
  {
   "cell_type": "code",
   "execution_count": null,
   "id": "c5e2ca13",
   "metadata": {},
   "outputs": [],
   "source": [
    "def reverse_bits(i: int) -> int:\n",
    "    '''\n",
    "    Reverses the bits of a number up to 5 bits (0 through 31)\n",
    "    '''\n",
    "    return int('{:08b}'.format(i)[::-1], 2)\n",
    "\n",
    "#This function returns the UnitaryGate object that you want to append to your circuit\n",
    "def U_f() -> UnitaryGate:\n",
    "    unitary = np.zeros([256, 256])\n",
    "    for i in range(16):\n",
    "        for j in range(16):\n",
    "            input_basis_state = i * 16 + j\n",
    "            exponentiated_j = pow(3, i, 16) ^ j\n",
    "            output_basis_state = i * 16 + exponentiated_j\n",
    "            unitary[reverse_bits(input_basis_state), reverse_bits(output_basis_state)] = 1\n",
    "    return UnitaryGate(unitary,\"U_f\")\n",
    "\n",
    "### ======== BEGIN CODE =============\n",
    "\n",
    "### ======== END CODE =============\n",
    "\n",
    "order_finding_circuit.draw(output=\"mpl\")"
   ]
  },
  {
   "cell_type": "markdown",
   "id": "51957a5b",
   "metadata": {},
   "source": [
    "## Problem 4.3 \n",
    "\n",
    "Suppose you measured the second register (the last 4 qubits) of the state described in Problem 4.2. What are the possible outcomes and their probabilities? What are the corresponding post-measurement states?"
   ]
  },
  {
   "cell_type": "markdown",
   "id": "1d0b8f1e",
   "metadata": {},
   "source": [
    "## Solution"
   ]
  },
  {
   "cell_type": "markdown",
   "id": "37925904",
   "metadata": {},
   "source": [
    "## Problem 4.4\n",
    "\n",
    "Let's simulate the measurement of the second register and collect measurement statistics. Write code to output the empirical probability of each measurement outcome (for example, the integer $1$ appears $X\\%$ of the time, the integer $3$ occurs $Y\\%$ of the time, etc. ).\n",
    "\n",
    "Note that the convention in Qiskit is to use little-endian representation of integers: the least significant bit goes first (so the ordering goes like $\\ket{0000}, \\ket{1000}, \\ket{0100}, \\ket{1100}, \\ldots$)."
   ]
  },
  {
   "cell_type": "code",
   "execution_count": null,
   "id": "975b0d23",
   "metadata": {},
   "outputs": [],
   "source": [
    "order_finding_circuit.measure([4,5,6,7], [0,1,2,3])\n",
    "order_finding_circuit.draw(output=\"mpl\")"
   ]
  },
  {
   "cell_type": "code",
   "execution_count": null,
   "id": "2a8f1ee6",
   "metadata": {},
   "outputs": [],
   "source": [
    "backend = Aer.get_backend(\"statevector_simulator\")\n",
    "result = execute(order_finding_circuit, backend=backend, shots=1024).result()\n",
    "result.get_counts() \n",
    "# Note that the bitstrings are reverse order"
   ]
  },
  {
   "cell_type": "code",
   "execution_count": null,
   "id": "d43cbba6",
   "metadata": {},
   "outputs": [],
   "source": [
    "### ======== BEGIN CODE =============\n",
    "\n",
    "\n",
    "### ======== END CODE ============="
   ]
  },
  {
   "cell_type": "markdown",
   "id": "a8d2c752",
   "metadata": {},
   "source": [
    "## Problem 4.5\n",
    "\n",
    "Now let's get the post-measurement state _conditioned_ on the second register measuring $\\ket{j}$ for $j = 3$. First, suppose we measure the second register and obtain outcome $\\ket{3}$. What will the post measurement state on the first register be?"
   ]
  },
  {
   "cell_type": "markdown",
   "id": "567de5ad",
   "metadata": {},
   "source": [
    "## Solution\n"
   ]
  },
  {
   "cell_type": "markdown",
   "id": "0b738943",
   "metadata": {},
   "source": [
    "## Problem 4.6\n",
    "\n",
    "Now let's validate empirically that the post measurement state is what we found above. We've already got some skeleton code for you set up; you should fill in the rest. The result is that the variable `postmeasurement_state` should be the post measurement state of the 8 qubits, conditioned on the second register being in the state $\\ket{3}$ (or, in binary, $\\ket{1100}$).\n",
    "\n"
   ]
  },
  {
   "cell_type": "code",
   "execution_count": null,
   "id": "cc2327bf",
   "metadata": {},
   "outputs": [],
   "source": [
    "j = 3\n",
    "j_in_rev_binary = '1100' # Note this bitstring is in reverse order. Reversing it, you'll see it encodes the number 3 in binary\n",
    "\n",
    "#just repeating this 100 times until you get the result you want (the number 100 is arbitrary)\n",
    "for k in range(100):\n",
    "    result = execute(order_finding_circuit, backend=backend, shots=1).result()\n",
    "    \n",
    "### ==== BEGIN CODE ========================\n",
    "\n",
    "### ====== END CODE ========================\n",
    "\n",
    "postmeasurement_state = result.get_statevector()    "
   ]
  },
  {
   "cell_type": "markdown",
   "id": "42476fdd",
   "metadata": {},
   "source": [
    "The variable `postmeasurement_state` is a vector of dimension 1024. We are interested in the state of the first register (the first 5 qubits), so let's extract that into a 32-dimensional vector `first_register`. \n",
    "\n",
    "We then plot the squares of the amplitudes of `first_register`. "
   ]
  },
  {
   "cell_type": "code",
   "execution_count": null,
   "id": "377de788",
   "metadata": {},
   "outputs": [],
   "source": [
    "first_register = []\n",
    "\n",
    "for i in range(16):\n",
    "    index = reverse_bits(i*16 + j)\n",
    "    ampl = postmeasurement_state[index]\n",
    "    first_register.append(ampl)\n",
    "    \n",
    "plt.bar(range(16),[np.absolute(f)**2 for f in first_register])    "
   ]
  },
  {
   "cell_type": "markdown",
   "id": "57f24694",
   "metadata": {},
   "source": [
    "Does the plot agree with your theoretical calculations of the post-measurement state?"
   ]
  },
  {
   "cell_type": "markdown",
   "id": "d1b14615",
   "metadata": {},
   "source": [
    "## Solution\n"
   ]
  },
  {
   "cell_type": "markdown",
   "id": "d668c92f",
   "metadata": {},
   "source": [
    "## Problem 4.7\n",
    "\n",
    "Let $\\ket{\\psi}$ denote the post-measurement state corresponding to the variable `first_register`. Suppose we apply the $4$-qubit Fourier Transform unitary $F_{16}$ to $\\ket{\\psi}$ to get the state $\\ket{\\hat{\\psi}}$. \n",
    "\n",
    "First, compute by hand the Fourier transform $F_{16}$ of $\\ket{\\psi}$, and determine an algebraic expression for the amplitudes of $\\ket{\\hat{\\psi}}$. \n",
    "\n",
    "If we then measured $\\ket{\\hat{\\psi}}$ in the standard basis, what outcomes are we most likely to get?\n",
    "\n",
    "**Hint**: Your answers to Problem 1 may be helpful."
   ]
  },
  {
   "cell_type": "markdown",
   "id": "fd76a4ec",
   "metadata": {},
   "source": [
    "## Solution.\n",
    "\n"
   ]
  },
  {
   "cell_type": "markdown",
   "id": "f26992ae",
   "metadata": {},
   "source": [
    "We now plot the squares of the amplitudes of $\\ket{\\hat{\\psi}}$ below. Does it match your math above?"
   ]
  },
  {
   "cell_type": "code",
   "execution_count": null,
   "id": "d727941e",
   "metadata": {},
   "outputs": [],
   "source": [
    "import numpy.fft as fft\n",
    "\n",
    "mean = sum(first_register)/len(first_register)\n",
    "fourier = fft.fft(np.array(first_register) - mean,16, axis = 0)\n",
    "# have to add in the normalization because numpy doesn't do it\n",
    "fourier = fourier/np.sqrt(16)\n",
    "\n",
    "# plot the absolute value squared of the fourier transform\n",
    "plt.bar(range(16),[np.absolute(f)**2 for f in fourier])"
   ]
  },
  {
   "cell_type": "markdown",
   "id": "d3deedc3",
   "metadata": {},
   "source": [
    "## Problem 4.8"
   ]
  },
  {
   "cell_type": "markdown",
   "id": "63d158b0",
   "metadata": {},
   "source": [
    "Suppose you had multiple copies of the state $\\ket{\\hat{\\psi}}$. Explain how, by measuring this state in the standard basis multiple times, one can determine the period $r$ of the function $f(x)$? This should use the algebraic expression for the amplitudes that you obtained in Problem 4.7."
   ]
  },
  {
   "cell_type": "markdown",
   "id": "dfa93b8b",
   "metadata": {},
   "source": [
    "## Solution."
   ]
  },
  {
   "cell_type": "code",
   "execution_count": null,
   "id": "c9ef7cb0",
   "metadata": {},
   "outputs": [],
   "source": []
  }
 ],
 "metadata": {
  "kernelspec": {
   "display_name": "Python 3 (ipykernel)",
   "language": "python",
   "name": "python3"
  },
  "language_info": {
   "codemirror_mode": {
    "name": "ipython",
    "version": 3
   },
   "file_extension": ".py",
   "mimetype": "text/x-python",
   "name": "python",
   "nbconvert_exporter": "python",
   "pygments_lexer": "ipython3",
   "version": "3.8.9"
  },
  "vscode": {
   "interpreter": {
    "hash": "0496f9bd3589af8a458940f52e746dd431c597080565717c85ba61b585cc60bf"
   }
  }
 },
 "nbformat": 4,
 "nbformat_minor": 5
}
